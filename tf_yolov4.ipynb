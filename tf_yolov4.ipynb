{
  "nbformat": 4,
  "nbformat_minor": 0,
  "metadata": {
    "colab": {
      "name": "tf_yolov4",
      "provenance": [],
      "collapsed_sections": [],
      "toc_visible": true,
      "authorship_tag": "ABX9TyODPF6pXqJGpWKCAx05edZ5",
      "include_colab_link": true
    },
    "kernelspec": {
      "name": "python3",
      "display_name": "Python 3"
    },
    "language_info": {
      "name": "python"
    },
    "accelerator": "GPU"
  },
  "cells": [
    {
      "cell_type": "markdown",
      "metadata": {
        "id": "view-in-github",
        "colab_type": "text"
      },
      "source": [
        "<a href=\"https://colab.research.google.com/github/mhyeonsoo/yolov4_tensorflow_quantization/blob/main/tf_yolov4.ipynb\" target=\"_parent\"><img src=\"https://colab.research.google.com/assets/colab-badge.svg\" alt=\"Open In Colab\"/></a>"
      ]
    },
    {
      "cell_type": "code",
      "metadata": {
        "id": "QfJKPMYZv3wN"
      },
      "source": [
        "import tensorflow as tf"
      ],
      "execution_count": 1,
      "outputs": []
    },
    {
      "cell_type": "code",
      "metadata": {
        "colab": {
          "base_uri": "https://localhost:8080/",
          "height": 34
        },
        "id": "No0-CSGTv-L6",
        "outputId": "8e10b1ee-e402-4e35-d5ed-c9ecb0edd374"
      },
      "source": [
        "tf.__version__"
      ],
      "execution_count": 2,
      "outputs": [
        {
          "output_type": "execute_result",
          "data": {
            "application/vnd.google.colaboratory.intrinsic+json": {
              "type": "string"
            },
            "text/plain": [
              "'2.3.1'"
            ]
          },
          "metadata": {
            "tags": []
          },
          "execution_count": 2
        }
      ]
    },
    {
      "cell_type": "code",
      "metadata": {
        "id": "gKebK2hgn45c"
      },
      "source": [
        "!pip install tensorflow==2.3.1"
      ],
      "execution_count": null,
      "outputs": []
    },
    {
      "cell_type": "markdown",
      "metadata": {
        "id": "1ZdZvK-ewGoQ"
      },
      "source": [
        "## Cloning git"
      ]
    },
    {
      "cell_type": "code",
      "metadata": {
        "colab": {
          "base_uri": "https://localhost:8080/"
        },
        "id": "ZkbQnTBXwQm1",
        "outputId": "9803e09b-6b68-4606-86a7-cd78cae974c4"
      },
      "source": [
        "!git clone https://github.com/hunglc007/tensorflow-yolov4-tflite"
      ],
      "execution_count": 3,
      "outputs": [
        {
          "output_type": "stream",
          "text": [
            "Cloning into 'tensorflow-yolov4-tflite'...\n",
            "remote: Enumerating objects: 780, done.\u001b[K\n",
            "remote: Total 780 (delta 0), reused 0 (delta 0), pack-reused 780\u001b[K\n",
            "Receiving objects: 100% (780/780), 197.64 MiB | 21.47 MiB/s, done.\n",
            "Resolving deltas: 100% (370/370), done.\n"
          ],
          "name": "stdout"
        }
      ]
    },
    {
      "cell_type": "markdown",
      "metadata": {
        "id": "2tXm_QyCxLdG"
      },
      "source": [
        "## Converting model"
      ]
    },
    {
      "cell_type": "code",
      "metadata": {
        "colab": {
          "base_uri": "https://localhost:8080/"
        },
        "id": "EgvnTwOoof6N",
        "outputId": "d2503497-530b-4f12-c36f-90f22806648b"
      },
      "source": [
        "!pwd"
      ],
      "execution_count": 4,
      "outputs": [
        {
          "output_type": "stream",
          "text": [
            "/content\n"
          ],
          "name": "stdout"
        }
      ]
    },
    {
      "cell_type": "code",
      "metadata": {
        "id": "O1SJcXQa3zjg"
      },
      "source": [
        "import os\n",
        "os.chdir('tensorflow-yolov4-tflite')"
      ],
      "execution_count": 5,
      "outputs": []
    },
    {
      "cell_type": "code",
      "metadata": {
        "colab": {
          "base_uri": "https://localhost:8080/"
        },
        "id": "HkHO_oYkF2R4",
        "outputId": "9519802a-04e7-4ed6-c877-6781ff295808"
      },
      "source": [
        "!rm -r checkpoints/*"
      ],
      "execution_count": null,
      "outputs": [
        {
          "output_type": "stream",
          "text": [
            "rm: cannot remove 'checkpoints/*': No such file or directory\n"
          ],
          "name": "stdout"
        }
      ]
    },
    {
      "cell_type": "code",
      "metadata": {
        "id": "cV7tCg5XxG9v",
        "colab": {
          "base_uri": "https://localhost:8080/"
        },
        "outputId": "470884eb-b584-4203-8c83-5a854d58e451"
      },
      "source": [
        "!python save_model.py --weights ./data/yolov4-tiny-custom2_best.weights --output ./checkpoints/yolov4-tiny-baseline --input_size 416 --model yolov4 --tiny --framework tflite"
      ],
      "execution_count": 7,
      "outputs": [
        {
          "output_type": "stream",
          "text": [
            "2021-04-12 00:39:51.156361: I tensorflow/stream_executor/platform/default/dso_loader.cc:48] Successfully opened dynamic library libcudart.so.10.1\n",
            "2021-04-12 00:39:52.372302: I tensorflow/stream_executor/platform/default/dso_loader.cc:48] Successfully opened dynamic library libcuda.so.1\n",
            "2021-04-12 00:39:52.403787: I tensorflow/stream_executor/cuda/cuda_gpu_executor.cc:982] successful NUMA node read from SysFS had negative value (-1), but there must be at least one NUMA node, so returning NUMA node zero\n",
            "2021-04-12 00:39:52.404443: I tensorflow/core/common_runtime/gpu/gpu_device.cc:1716] Found device 0 with properties: \n",
            "pciBusID: 0000:00:04.0 name: Tesla T4 computeCapability: 7.5\n",
            "coreClock: 1.59GHz coreCount: 40 deviceMemorySize: 14.75GiB deviceMemoryBandwidth: 298.08GiB/s\n",
            "2021-04-12 00:39:52.404486: I tensorflow/stream_executor/platform/default/dso_loader.cc:48] Successfully opened dynamic library libcudart.so.10.1\n",
            "2021-04-12 00:39:52.406126: I tensorflow/stream_executor/platform/default/dso_loader.cc:48] Successfully opened dynamic library libcublas.so.10\n",
            "2021-04-12 00:39:52.407996: I tensorflow/stream_executor/platform/default/dso_loader.cc:48] Successfully opened dynamic library libcufft.so.10\n",
            "2021-04-12 00:39:52.408347: I tensorflow/stream_executor/platform/default/dso_loader.cc:48] Successfully opened dynamic library libcurand.so.10\n",
            "2021-04-12 00:39:52.410167: I tensorflow/stream_executor/platform/default/dso_loader.cc:48] Successfully opened dynamic library libcusolver.so.10\n",
            "2021-04-12 00:39:52.411441: I tensorflow/stream_executor/platform/default/dso_loader.cc:48] Successfully opened dynamic library libcusparse.so.10\n",
            "2021-04-12 00:39:52.492114: I tensorflow/stream_executor/platform/default/dso_loader.cc:48] Successfully opened dynamic library libcudnn.so.7\n",
            "2021-04-12 00:39:52.492291: I tensorflow/stream_executor/cuda/cuda_gpu_executor.cc:982] successful NUMA node read from SysFS had negative value (-1), but there must be at least one NUMA node, so returning NUMA node zero\n",
            "2021-04-12 00:39:52.493033: I tensorflow/stream_executor/cuda/cuda_gpu_executor.cc:982] successful NUMA node read from SysFS had negative value (-1), but there must be at least one NUMA node, so returning NUMA node zero\n",
            "2021-04-12 00:39:52.493618: I tensorflow/core/common_runtime/gpu/gpu_device.cc:1858] Adding visible gpu devices: 0\n",
            "2021-04-12 00:39:52.494047: I tensorflow/core/platform/cpu_feature_guard.cc:142] This TensorFlow binary is optimized with oneAPI Deep Neural Network Library (oneDNN)to use the following CPU instructions in performance-critical operations:  AVX2 FMA\n",
            "To enable them in other operations, rebuild TensorFlow with the appropriate compiler flags.\n",
            "2021-04-12 00:39:52.499416: I tensorflow/core/platform/profile_utils/cpu_utils.cc:104] CPU Frequency: 2199995000 Hz\n",
            "2021-04-12 00:39:52.499627: I tensorflow/compiler/xla/service/service.cc:168] XLA service 0x55c6f0d3ebc0 initialized for platform Host (this does not guarantee that XLA will be used). Devices:\n",
            "2021-04-12 00:39:52.499655: I tensorflow/compiler/xla/service/service.cc:176]   StreamExecutor device (0): Host, Default Version\n",
            "2021-04-12 00:39:52.609765: I tensorflow/stream_executor/cuda/cuda_gpu_executor.cc:982] successful NUMA node read from SysFS had negative value (-1), but there must be at least one NUMA node, so returning NUMA node zero\n",
            "2021-04-12 00:39:52.610531: I tensorflow/compiler/xla/service/service.cc:168] XLA service 0x55c6f0d3ed80 initialized for platform CUDA (this does not guarantee that XLA will be used). Devices:\n",
            "2021-04-12 00:39:52.610566: I tensorflow/compiler/xla/service/service.cc:176]   StreamExecutor device (0): Tesla T4, Compute Capability 7.5\n",
            "2021-04-12 00:39:52.610748: I tensorflow/stream_executor/cuda/cuda_gpu_executor.cc:982] successful NUMA node read from SysFS had negative value (-1), but there must be at least one NUMA node, so returning NUMA node zero\n",
            "2021-04-12 00:39:52.611355: I tensorflow/core/common_runtime/gpu/gpu_device.cc:1716] Found device 0 with properties: \n",
            "pciBusID: 0000:00:04.0 name: Tesla T4 computeCapability: 7.5\n",
            "coreClock: 1.59GHz coreCount: 40 deviceMemorySize: 14.75GiB deviceMemoryBandwidth: 298.08GiB/s\n",
            "2021-04-12 00:39:52.611416: I tensorflow/stream_executor/platform/default/dso_loader.cc:48] Successfully opened dynamic library libcudart.so.10.1\n",
            "2021-04-12 00:39:52.611459: I tensorflow/stream_executor/platform/default/dso_loader.cc:48] Successfully opened dynamic library libcublas.so.10\n",
            "2021-04-12 00:39:52.611484: I tensorflow/stream_executor/platform/default/dso_loader.cc:48] Successfully opened dynamic library libcufft.so.10\n",
            "2021-04-12 00:39:52.611504: I tensorflow/stream_executor/platform/default/dso_loader.cc:48] Successfully opened dynamic library libcurand.so.10\n",
            "2021-04-12 00:39:52.611522: I tensorflow/stream_executor/platform/default/dso_loader.cc:48] Successfully opened dynamic library libcusolver.so.10\n",
            "2021-04-12 00:39:52.611543: I tensorflow/stream_executor/platform/default/dso_loader.cc:48] Successfully opened dynamic library libcusparse.so.10\n",
            "2021-04-12 00:39:52.611565: I tensorflow/stream_executor/platform/default/dso_loader.cc:48] Successfully opened dynamic library libcudnn.so.7\n",
            "2021-04-12 00:39:52.611632: I tensorflow/stream_executor/cuda/cuda_gpu_executor.cc:982] successful NUMA node read from SysFS had negative value (-1), but there must be at least one NUMA node, so returning NUMA node zero\n",
            "2021-04-12 00:39:52.612209: I tensorflow/stream_executor/cuda/cuda_gpu_executor.cc:982] successful NUMA node read from SysFS had negative value (-1), but there must be at least one NUMA node, so returning NUMA node zero\n",
            "2021-04-12 00:39:52.612710: I tensorflow/core/common_runtime/gpu/gpu_device.cc:1858] Adding visible gpu devices: 0\n",
            "2021-04-12 00:39:52.612756: I tensorflow/stream_executor/platform/default/dso_loader.cc:48] Successfully opened dynamic library libcudart.so.10.1\n",
            "2021-04-12 00:39:53.123082: I tensorflow/core/common_runtime/gpu/gpu_device.cc:1257] Device interconnect StreamExecutor with strength 1 edge matrix:\n",
            "2021-04-12 00:39:53.123136: I tensorflow/core/common_runtime/gpu/gpu_device.cc:1263]      0 \n",
            "2021-04-12 00:39:53.123155: I tensorflow/core/common_runtime/gpu/gpu_device.cc:1276] 0:   N \n",
            "2021-04-12 00:39:53.123340: I tensorflow/stream_executor/cuda/cuda_gpu_executor.cc:982] successful NUMA node read from SysFS had negative value (-1), but there must be at least one NUMA node, so returning NUMA node zero\n",
            "2021-04-12 00:39:53.123967: I tensorflow/stream_executor/cuda/cuda_gpu_executor.cc:982] successful NUMA node read from SysFS had negative value (-1), but there must be at least one NUMA node, so returning NUMA node zero\n",
            "2021-04-12 00:39:53.124481: W tensorflow/core/common_runtime/gpu/gpu_bfc_allocator.cc:39] Overriding allow_growth setting because the TF_FORCE_GPU_ALLOW_GROWTH environment variable is set. Original config value was 0.\n",
            "2021-04-12 00:39:53.124520: I tensorflow/core/common_runtime/gpu/gpu_device.cc:1402] Created TensorFlow device (/job:localhost/replica:0/task:0/device:GPU:0 with 13970 MB memory) -> physical GPU (device: 0, name: Tesla T4, pci bus id: 0000:00:04.0, compute capability: 7.5)\n",
            "Model: \"functional_1\"\n",
            "__________________________________________________________________________________________________\n",
            "Layer (type)                    Output Shape         Param #     Connected to                     \n",
            "==================================================================================================\n",
            "input_1 (InputLayer)            [(None, 416, 416, 3) 0                                            \n",
            "__________________________________________________________________________________________________\n",
            "zero_padding2d (ZeroPadding2D)  (None, 417, 417, 3)  0           input_1[0][0]                    \n",
            "__________________________________________________________________________________________________\n",
            "conv2d (Conv2D)                 (None, 208, 208, 32) 864         zero_padding2d[0][0]             \n",
            "__________________________________________________________________________________________________\n",
            "batch_normalization (BatchNorma (None, 208, 208, 32) 128         conv2d[0][0]                     \n",
            "__________________________________________________________________________________________________\n",
            "tf_op_layer_LeakyRelu (TensorFl [(None, 208, 208, 32 0           batch_normalization[0][0]        \n",
            "__________________________________________________________________________________________________\n",
            "zero_padding2d_1 (ZeroPadding2D (None, 209, 209, 32) 0           tf_op_layer_LeakyRelu[0][0]      \n",
            "__________________________________________________________________________________________________\n",
            "conv2d_1 (Conv2D)               (None, 104, 104, 64) 18432       zero_padding2d_1[0][0]           \n",
            "__________________________________________________________________________________________________\n",
            "batch_normalization_1 (BatchNor (None, 104, 104, 64) 256         conv2d_1[0][0]                   \n",
            "__________________________________________________________________________________________________\n",
            "tf_op_layer_LeakyRelu_1 (Tensor [(None, 104, 104, 64 0           batch_normalization_1[0][0]      \n",
            "__________________________________________________________________________________________________\n",
            "conv2d_2 (Conv2D)               (None, 104, 104, 64) 36864       tf_op_layer_LeakyRelu_1[0][0]    \n",
            "__________________________________________________________________________________________________\n",
            "batch_normalization_2 (BatchNor (None, 104, 104, 64) 256         conv2d_2[0][0]                   \n",
            "__________________________________________________________________________________________________\n",
            "tf_op_layer_LeakyRelu_2 (Tensor [(None, 104, 104, 64 0           batch_normalization_2[0][0]      \n",
            "__________________________________________________________________________________________________\n",
            "tf_op_layer_split (TensorFlowOp [(None, 104, 104, 32 0           tf_op_layer_LeakyRelu_2[0][0]    \n",
            "__________________________________________________________________________________________________\n",
            "conv2d_3 (Conv2D)               (None, 104, 104, 32) 9216        tf_op_layer_split[0][1]          \n",
            "__________________________________________________________________________________________________\n",
            "batch_normalization_3 (BatchNor (None, 104, 104, 32) 128         conv2d_3[0][0]                   \n",
            "__________________________________________________________________________________________________\n",
            "tf_op_layer_LeakyRelu_3 (Tensor [(None, 104, 104, 32 0           batch_normalization_3[0][0]      \n",
            "__________________________________________________________________________________________________\n",
            "conv2d_4 (Conv2D)               (None, 104, 104, 32) 9216        tf_op_layer_LeakyRelu_3[0][0]    \n",
            "__________________________________________________________________________________________________\n",
            "batch_normalization_4 (BatchNor (None, 104, 104, 32) 128         conv2d_4[0][0]                   \n",
            "__________________________________________________________________________________________________\n",
            "tf_op_layer_LeakyRelu_4 (Tensor [(None, 104, 104, 32 0           batch_normalization_4[0][0]      \n",
            "__________________________________________________________________________________________________\n",
            "tf_op_layer_concat (TensorFlowO [(None, 104, 104, 64 0           tf_op_layer_LeakyRelu_4[0][0]    \n",
            "                                                                 tf_op_layer_LeakyRelu_3[0][0]    \n",
            "__________________________________________________________________________________________________\n",
            "conv2d_5 (Conv2D)               (None, 104, 104, 64) 4096        tf_op_layer_concat[0][0]         \n",
            "__________________________________________________________________________________________________\n",
            "batch_normalization_5 (BatchNor (None, 104, 104, 64) 256         conv2d_5[0][0]                   \n",
            "__________________________________________________________________________________________________\n",
            "tf_op_layer_LeakyRelu_5 (Tensor [(None, 104, 104, 64 0           batch_normalization_5[0][0]      \n",
            "__________________________________________________________________________________________________\n",
            "tf_op_layer_concat_1 (TensorFlo [(None, 104, 104, 12 0           tf_op_layer_LeakyRelu_2[0][0]    \n",
            "                                                                 tf_op_layer_LeakyRelu_5[0][0]    \n",
            "__________________________________________________________________________________________________\n",
            "max_pooling2d (MaxPooling2D)    (None, 52, 52, 128)  0           tf_op_layer_concat_1[0][0]       \n",
            "__________________________________________________________________________________________________\n",
            "conv2d_6 (Conv2D)               (None, 52, 52, 128)  147456      max_pooling2d[0][0]              \n",
            "__________________________________________________________________________________________________\n",
            "batch_normalization_6 (BatchNor (None, 52, 52, 128)  512         conv2d_6[0][0]                   \n",
            "__________________________________________________________________________________________________\n",
            "tf_op_layer_LeakyRelu_6 (Tensor [(None, 52, 52, 128) 0           batch_normalization_6[0][0]      \n",
            "__________________________________________________________________________________________________\n",
            "tf_op_layer_split_1 (TensorFlow [(None, 52, 52, 64), 0           tf_op_layer_LeakyRelu_6[0][0]    \n",
            "__________________________________________________________________________________________________\n",
            "conv2d_7 (Conv2D)               (None, 52, 52, 64)   36864       tf_op_layer_split_1[0][1]        \n",
            "__________________________________________________________________________________________________\n",
            "batch_normalization_7 (BatchNor (None, 52, 52, 64)   256         conv2d_7[0][0]                   \n",
            "__________________________________________________________________________________________________\n",
            "tf_op_layer_LeakyRelu_7 (Tensor [(None, 52, 52, 64)] 0           batch_normalization_7[0][0]      \n",
            "__________________________________________________________________________________________________\n",
            "conv2d_8 (Conv2D)               (None, 52, 52, 64)   36864       tf_op_layer_LeakyRelu_7[0][0]    \n",
            "__________________________________________________________________________________________________\n",
            "batch_normalization_8 (BatchNor (None, 52, 52, 64)   256         conv2d_8[0][0]                   \n",
            "__________________________________________________________________________________________________\n",
            "tf_op_layer_LeakyRelu_8 (Tensor [(None, 52, 52, 64)] 0           batch_normalization_8[0][0]      \n",
            "__________________________________________________________________________________________________\n",
            "tf_op_layer_concat_2 (TensorFlo [(None, 52, 52, 128) 0           tf_op_layer_LeakyRelu_8[0][0]    \n",
            "                                                                 tf_op_layer_LeakyRelu_7[0][0]    \n",
            "__________________________________________________________________________________________________\n",
            "conv2d_9 (Conv2D)               (None, 52, 52, 128)  16384       tf_op_layer_concat_2[0][0]       \n",
            "__________________________________________________________________________________________________\n",
            "batch_normalization_9 (BatchNor (None, 52, 52, 128)  512         conv2d_9[0][0]                   \n",
            "__________________________________________________________________________________________________\n",
            "tf_op_layer_LeakyRelu_9 (Tensor [(None, 52, 52, 128) 0           batch_normalization_9[0][0]      \n",
            "__________________________________________________________________________________________________\n",
            "tf_op_layer_concat_3 (TensorFlo [(None, 52, 52, 256) 0           tf_op_layer_LeakyRelu_6[0][0]    \n",
            "                                                                 tf_op_layer_LeakyRelu_9[0][0]    \n",
            "__________________________________________________________________________________________________\n",
            "max_pooling2d_1 (MaxPooling2D)  (None, 26, 26, 256)  0           tf_op_layer_concat_3[0][0]       \n",
            "__________________________________________________________________________________________________\n",
            "conv2d_10 (Conv2D)              (None, 26, 26, 256)  589824      max_pooling2d_1[0][0]            \n",
            "__________________________________________________________________________________________________\n",
            "batch_normalization_10 (BatchNo (None, 26, 26, 256)  1024        conv2d_10[0][0]                  \n",
            "__________________________________________________________________________________________________\n",
            "tf_op_layer_LeakyRelu_10 (Tenso [(None, 26, 26, 256) 0           batch_normalization_10[0][0]     \n",
            "__________________________________________________________________________________________________\n",
            "tf_op_layer_split_2 (TensorFlow [(None, 26, 26, 128) 0           tf_op_layer_LeakyRelu_10[0][0]   \n",
            "__________________________________________________________________________________________________\n",
            "conv2d_11 (Conv2D)              (None, 26, 26, 128)  147456      tf_op_layer_split_2[0][1]        \n",
            "__________________________________________________________________________________________________\n",
            "batch_normalization_11 (BatchNo (None, 26, 26, 128)  512         conv2d_11[0][0]                  \n",
            "__________________________________________________________________________________________________\n",
            "tf_op_layer_LeakyRelu_11 (Tenso [(None, 26, 26, 128) 0           batch_normalization_11[0][0]     \n",
            "__________________________________________________________________________________________________\n",
            "conv2d_12 (Conv2D)              (None, 26, 26, 128)  147456      tf_op_layer_LeakyRelu_11[0][0]   \n",
            "__________________________________________________________________________________________________\n",
            "batch_normalization_12 (BatchNo (None, 26, 26, 128)  512         conv2d_12[0][0]                  \n",
            "__________________________________________________________________________________________________\n",
            "tf_op_layer_LeakyRelu_12 (Tenso [(None, 26, 26, 128) 0           batch_normalization_12[0][0]     \n",
            "__________________________________________________________________________________________________\n",
            "tf_op_layer_concat_4 (TensorFlo [(None, 26, 26, 256) 0           tf_op_layer_LeakyRelu_12[0][0]   \n",
            "                                                                 tf_op_layer_LeakyRelu_11[0][0]   \n",
            "__________________________________________________________________________________________________\n",
            "conv2d_13 (Conv2D)              (None, 26, 26, 256)  65536       tf_op_layer_concat_4[0][0]       \n",
            "__________________________________________________________________________________________________\n",
            "batch_normalization_13 (BatchNo (None, 26, 26, 256)  1024        conv2d_13[0][0]                  \n",
            "__________________________________________________________________________________________________\n",
            "tf_op_layer_LeakyRelu_13 (Tenso [(None, 26, 26, 256) 0           batch_normalization_13[0][0]     \n",
            "__________________________________________________________________________________________________\n",
            "tf_op_layer_concat_5 (TensorFlo [(None, 26, 26, 512) 0           tf_op_layer_LeakyRelu_10[0][0]   \n",
            "                                                                 tf_op_layer_LeakyRelu_13[0][0]   \n",
            "__________________________________________________________________________________________________\n",
            "max_pooling2d_2 (MaxPooling2D)  (None, 13, 13, 512)  0           tf_op_layer_concat_5[0][0]       \n",
            "__________________________________________________________________________________________________\n",
            "conv2d_14 (Conv2D)              (None, 13, 13, 512)  2359296     max_pooling2d_2[0][0]            \n",
            "__________________________________________________________________________________________________\n",
            "batch_normalization_14 (BatchNo (None, 13, 13, 512)  2048        conv2d_14[0][0]                  \n",
            "__________________________________________________________________________________________________\n",
            "tf_op_layer_LeakyRelu_14 (Tenso [(None, 13, 13, 512) 0           batch_normalization_14[0][0]     \n",
            "__________________________________________________________________________________________________\n",
            "conv2d_15 (Conv2D)              (None, 13, 13, 256)  131072      tf_op_layer_LeakyRelu_14[0][0]   \n",
            "__________________________________________________________________________________________________\n",
            "batch_normalization_15 (BatchNo (None, 13, 13, 256)  1024        conv2d_15[0][0]                  \n",
            "__________________________________________________________________________________________________\n",
            "tf_op_layer_LeakyRelu_15 (Tenso [(None, 13, 13, 256) 0           batch_normalization_15[0][0]     \n",
            "__________________________________________________________________________________________________\n",
            "conv2d_18 (Conv2D)              (None, 13, 13, 128)  32768       tf_op_layer_LeakyRelu_15[0][0]   \n",
            "__________________________________________________________________________________________________\n",
            "batch_normalization_17 (BatchNo (None, 13, 13, 128)  512         conv2d_18[0][0]                  \n",
            "__________________________________________________________________________________________________\n",
            "tf_op_layer_LeakyRelu_17 (Tenso [(None, 13, 13, 128) 0           batch_normalization_17[0][0]     \n",
            "__________________________________________________________________________________________________\n",
            "tf_op_layer_ResizeBilinear (Ten [(None, 26, 26, 128) 0           tf_op_layer_LeakyRelu_17[0][0]   \n",
            "__________________________________________________________________________________________________\n",
            "tf_op_layer_concat_6 (TensorFlo [(None, 26, 26, 384) 0           tf_op_layer_ResizeBilinear[0][0] \n",
            "                                                                 tf_op_layer_LeakyRelu_13[0][0]   \n",
            "__________________________________________________________________________________________________\n",
            "conv2d_19 (Conv2D)              (None, 26, 26, 256)  884736      tf_op_layer_concat_6[0][0]       \n",
            "__________________________________________________________________________________________________\n",
            "conv2d_16 (Conv2D)              (None, 13, 13, 512)  1179648     tf_op_layer_LeakyRelu_15[0][0]   \n",
            "__________________________________________________________________________________________________\n",
            "batch_normalization_18 (BatchNo (None, 26, 26, 256)  1024        conv2d_19[0][0]                  \n",
            "__________________________________________________________________________________________________\n",
            "batch_normalization_16 (BatchNo (None, 13, 13, 512)  2048        conv2d_16[0][0]                  \n",
            "__________________________________________________________________________________________________\n",
            "tf_op_layer_LeakyRelu_18 (Tenso [(None, 26, 26, 256) 0           batch_normalization_18[0][0]     \n",
            "__________________________________________________________________________________________________\n",
            "tf_op_layer_LeakyRelu_16 (Tenso [(None, 13, 13, 512) 0           batch_normalization_16[0][0]     \n",
            "__________________________________________________________________________________________________\n",
            "conv2d_20 (Conv2D)              (None, 26, 26, 18)   4626        tf_op_layer_LeakyRelu_18[0][0]   \n",
            "__________________________________________________________________________________________________\n",
            "conv2d_17 (Conv2D)              (None, 13, 13, 18)   9234        tf_op_layer_LeakyRelu_16[0][0]   \n",
            "__________________________________________________________________________________________________\n",
            "tf_op_layer_split_3 (TensorFlow [(None, 26, 26, 2),  0           conv2d_20[0][0]                  \n",
            "__________________________________________________________________________________________________\n",
            "tf_op_layer_split_4 (TensorFlow [(None, 13, 13, 2),  0           conv2d_17[0][0]                  \n",
            "__________________________________________________________________________________________________\n",
            "tf_op_layer_Sigmoid_3 (TensorFl [(None, 26, 26, 2)]  0           tf_op_layer_split_3[0][0]        \n",
            "__________________________________________________________________________________________________\n",
            "tf_op_layer_Sigmoid_4 (TensorFl [(None, 26, 26, 2)]  0           tf_op_layer_split_3[0][3]        \n",
            "__________________________________________________________________________________________________\n",
            "tf_op_layer_Sigmoid_5 (TensorFl [(None, 26, 26, 2)]  0           tf_op_layer_split_3[0][6]        \n",
            "__________________________________________________________________________________________________\n",
            "tf_op_layer_Sigmoid_9 (TensorFl [(None, 13, 13, 2)]  0           tf_op_layer_split_4[0][0]        \n",
            "__________________________________________________________________________________________________\n",
            "tf_op_layer_Sigmoid_10 (TensorF [(None, 13, 13, 2)]  0           tf_op_layer_split_4[0][3]        \n",
            "__________________________________________________________________________________________________\n",
            "tf_op_layer_Sigmoid_11 (TensorF [(None, 13, 13, 2)]  0           tf_op_layer_split_4[0][6]        \n",
            "__________________________________________________________________________________________________\n",
            "tf_op_layer_Mul_6 (TensorFlowOp [(None, 26, 26, 2)]  0           tf_op_layer_Sigmoid_3[0][0]      \n",
            "__________________________________________________________________________________________________\n",
            "tf_op_layer_Mul_8 (TensorFlowOp [(None, 26, 26, 2)]  0           tf_op_layer_Sigmoid_4[0][0]      \n",
            "__________________________________________________________________________________________________\n",
            "tf_op_layer_Mul_10 (TensorFlowO [(None, 26, 26, 2)]  0           tf_op_layer_Sigmoid_5[0][0]      \n",
            "__________________________________________________________________________________________________\n",
            "tf_op_layer_Mul_18 (TensorFlowO [(None, 13, 13, 2)]  0           tf_op_layer_Sigmoid_9[0][0]      \n",
            "__________________________________________________________________________________________________\n",
            "tf_op_layer_Mul_20 (TensorFlowO [(None, 13, 13, 2)]  0           tf_op_layer_Sigmoid_10[0][0]     \n",
            "__________________________________________________________________________________________________\n",
            "tf_op_layer_Mul_22 (TensorFlowO [(None, 13, 13, 2)]  0           tf_op_layer_Sigmoid_11[0][0]     \n",
            "__________________________________________________________________________________________________\n",
            "tf_op_layer_Sub (TensorFlowOpLa [(None, 26, 26, 2)]  0           tf_op_layer_Mul_6[0][0]          \n",
            "__________________________________________________________________________________________________\n",
            "tf_op_layer_Sub_1 (TensorFlowOp [(None, 26, 26, 2)]  0           tf_op_layer_Mul_8[0][0]          \n",
            "__________________________________________________________________________________________________\n",
            "tf_op_layer_Sub_2 (TensorFlowOp [(None, 26, 26, 2)]  0           tf_op_layer_Mul_10[0][0]         \n",
            "__________________________________________________________________________________________________\n",
            "tf_op_layer_Sub_3 (TensorFlowOp [(None, 13, 13, 2)]  0           tf_op_layer_Mul_18[0][0]         \n",
            "__________________________________________________________________________________________________\n",
            "tf_op_layer_Sub_4 (TensorFlowOp [(None, 13, 13, 2)]  0           tf_op_layer_Mul_20[0][0]         \n",
            "__________________________________________________________________________________________________\n",
            "tf_op_layer_Sub_5 (TensorFlowOp [(None, 13, 13, 2)]  0           tf_op_layer_Mul_22[0][0]         \n",
            "__________________________________________________________________________________________________\n",
            "tf_op_layer_AddV2 (TensorFlowOp [(None, 26, 26, 2)]  0           tf_op_layer_Sub[0][0]            \n",
            "__________________________________________________________________________________________________\n",
            "tf_op_layer_AddV2_1 (TensorFlow [(None, 26, 26, 2)]  0           tf_op_layer_Sub_1[0][0]          \n",
            "__________________________________________________________________________________________________\n",
            "tf_op_layer_AddV2_2 (TensorFlow [(None, 26, 26, 2)]  0           tf_op_layer_Sub_2[0][0]          \n",
            "__________________________________________________________________________________________________\n",
            "tf_op_layer_Exp (TensorFlowOpLa [(None, 26, 26, 2)]  0           tf_op_layer_split_3[0][1]        \n",
            "__________________________________________________________________________________________________\n",
            "tf_op_layer_Exp_1 (TensorFlowOp [(None, 26, 26, 2)]  0           tf_op_layer_split_3[0][4]        \n",
            "__________________________________________________________________________________________________\n",
            "tf_op_layer_Exp_2 (TensorFlowOp [(None, 26, 26, 2)]  0           tf_op_layer_split_3[0][7]        \n",
            "__________________________________________________________________________________________________\n",
            "tf_op_layer_AddV2_3 (TensorFlow [(None, 13, 13, 2)]  0           tf_op_layer_Sub_3[0][0]          \n",
            "__________________________________________________________________________________________________\n",
            "tf_op_layer_AddV2_4 (TensorFlow [(None, 13, 13, 2)]  0           tf_op_layer_Sub_4[0][0]          \n",
            "__________________________________________________________________________________________________\n",
            "tf_op_layer_AddV2_5 (TensorFlow [(None, 13, 13, 2)]  0           tf_op_layer_Sub_5[0][0]          \n",
            "__________________________________________________________________________________________________\n",
            "tf_op_layer_Exp_3 (TensorFlowOp [(None, 13, 13, 2)]  0           tf_op_layer_split_4[0][1]        \n",
            "__________________________________________________________________________________________________\n",
            "tf_op_layer_Exp_4 (TensorFlowOp [(None, 13, 13, 2)]  0           tf_op_layer_split_4[0][4]        \n",
            "__________________________________________________________________________________________________\n",
            "tf_op_layer_Exp_5 (TensorFlowOp [(None, 13, 13, 2)]  0           tf_op_layer_split_4[0][7]        \n",
            "__________________________________________________________________________________________________\n",
            "tf_op_layer_Sigmoid (TensorFlow [(None, 26, 26, 2)]  0           tf_op_layer_split_3[0][2]        \n",
            "__________________________________________________________________________________________________\n",
            "tf_op_layer_Sigmoid_1 (TensorFl [(None, 26, 26, 2)]  0           tf_op_layer_split_3[0][5]        \n",
            "__________________________________________________________________________________________________\n",
            "tf_op_layer_Sigmoid_2 (TensorFl [(None, 26, 26, 2)]  0           tf_op_layer_split_3[0][8]        \n",
            "__________________________________________________________________________________________________\n",
            "tf_op_layer_Sigmoid_6 (TensorFl [(None, 13, 13, 2)]  0           tf_op_layer_split_4[0][2]        \n",
            "__________________________________________________________________________________________________\n",
            "tf_op_layer_Sigmoid_7 (TensorFl [(None, 13, 13, 2)]  0           tf_op_layer_split_4[0][5]        \n",
            "__________________________________________________________________________________________________\n",
            "tf_op_layer_Sigmoid_8 (TensorFl [(None, 13, 13, 2)]  0           tf_op_layer_split_4[0][8]        \n",
            "__________________________________________________________________________________________________\n",
            "tf_op_layer_Mul_7 (TensorFlowOp [(None, 26, 26, 2)]  0           tf_op_layer_AddV2[0][0]          \n",
            "__________________________________________________________________________________________________\n",
            "tf_op_layer_Mul_9 (TensorFlowOp [(None, 26, 26, 2)]  0           tf_op_layer_AddV2_1[0][0]        \n",
            "__________________________________________________________________________________________________\n",
            "tf_op_layer_Mul_11 (TensorFlowO [(None, 26, 26, 2)]  0           tf_op_layer_AddV2_2[0][0]        \n",
            "__________________________________________________________________________________________________\n",
            "tf_op_layer_Mul_3 (TensorFlowOp [(None, 26, 26, 2)]  0           tf_op_layer_Exp[0][0]            \n",
            "__________________________________________________________________________________________________\n",
            "tf_op_layer_Mul_4 (TensorFlowOp [(None, 26, 26, 2)]  0           tf_op_layer_Exp_1[0][0]          \n",
            "__________________________________________________________________________________________________\n",
            "tf_op_layer_Mul_5 (TensorFlowOp [(None, 26, 26, 2)]  0           tf_op_layer_Exp_2[0][0]          \n",
            "__________________________________________________________________________________________________\n",
            "tf_op_layer_Mul_19 (TensorFlowO [(None, 13, 13, 2)]  0           tf_op_layer_AddV2_3[0][0]        \n",
            "__________________________________________________________________________________________________\n",
            "tf_op_layer_Mul_21 (TensorFlowO [(None, 13, 13, 2)]  0           tf_op_layer_AddV2_4[0][0]        \n",
            "__________________________________________________________________________________________________\n",
            "tf_op_layer_Mul_23 (TensorFlowO [(None, 13, 13, 2)]  0           tf_op_layer_AddV2_5[0][0]        \n",
            "__________________________________________________________________________________________________\n",
            "tf_op_layer_Mul_15 (TensorFlowO [(None, 13, 13, 2)]  0           tf_op_layer_Exp_3[0][0]          \n",
            "__________________________________________________________________________________________________\n",
            "tf_op_layer_Mul_16 (TensorFlowO [(None, 13, 13, 2)]  0           tf_op_layer_Exp_4[0][0]          \n",
            "__________________________________________________________________________________________________\n",
            "tf_op_layer_Mul_17 (TensorFlowO [(None, 13, 13, 2)]  0           tf_op_layer_Exp_5[0][0]          \n",
            "__________________________________________________________________________________________________\n",
            "tf_op_layer_strided_slice (Tens [(None, 26, 26, 1)]  0           tf_op_layer_Sigmoid[0][0]        \n",
            "__________________________________________________________________________________________________\n",
            "tf_op_layer_strided_slice_1 (Te [(None, 26, 26, 1)]  0           tf_op_layer_Sigmoid[0][0]        \n",
            "__________________________________________________________________________________________________\n",
            "tf_op_layer_strided_slice_2 (Te [(None, 26, 26, 1)]  0           tf_op_layer_Sigmoid_1[0][0]      \n",
            "__________________________________________________________________________________________________\n",
            "tf_op_layer_strided_slice_3 (Te [(None, 26, 26, 1)]  0           tf_op_layer_Sigmoid_1[0][0]      \n",
            "__________________________________________________________________________________________________\n",
            "tf_op_layer_strided_slice_4 (Te [(None, 26, 26, 1)]  0           tf_op_layer_Sigmoid_2[0][0]      \n",
            "__________________________________________________________________________________________________\n",
            "tf_op_layer_strided_slice_5 (Te [(None, 26, 26, 1)]  0           tf_op_layer_Sigmoid_2[0][0]      \n",
            "__________________________________________________________________________________________________\n",
            "tf_op_layer_strided_slice_6 (Te [(None, 13, 13, 1)]  0           tf_op_layer_Sigmoid_6[0][0]      \n",
            "__________________________________________________________________________________________________\n",
            "tf_op_layer_strided_slice_7 (Te [(None, 13, 13, 1)]  0           tf_op_layer_Sigmoid_6[0][0]      \n",
            "__________________________________________________________________________________________________\n",
            "tf_op_layer_strided_slice_8 (Te [(None, 13, 13, 1)]  0           tf_op_layer_Sigmoid_7[0][0]      \n",
            "__________________________________________________________________________________________________\n",
            "tf_op_layer_strided_slice_9 (Te [(None, 13, 13, 1)]  0           tf_op_layer_Sigmoid_7[0][0]      \n",
            "__________________________________________________________________________________________________\n",
            "tf_op_layer_strided_slice_10 (T [(None, 13, 13, 1)]  0           tf_op_layer_Sigmoid_8[0][0]      \n",
            "__________________________________________________________________________________________________\n",
            "tf_op_layer_strided_slice_11 (T [(None, 13, 13, 1)]  0           tf_op_layer_Sigmoid_8[0][0]      \n",
            "__________________________________________________________________________________________________\n",
            "tf_op_layer_Reshape_6 (TensorFl [(1, None, 2)]       0           tf_op_layer_Mul_7[0][0]          \n",
            "__________________________________________________________________________________________________\n",
            "tf_op_layer_Reshape_7 (TensorFl [(1, None, 2)]       0           tf_op_layer_Mul_9[0][0]          \n",
            "__________________________________________________________________________________________________\n",
            "tf_op_layer_Reshape_8 (TensorFl [(1, None, 2)]       0           tf_op_layer_Mul_11[0][0]         \n",
            "__________________________________________________________________________________________________\n",
            "tf_op_layer_Reshape_3 (TensorFl [(1, None, 2)]       0           tf_op_layer_Mul_3[0][0]          \n",
            "__________________________________________________________________________________________________\n",
            "tf_op_layer_Reshape_4 (TensorFl [(1, None, 2)]       0           tf_op_layer_Mul_4[0][0]          \n",
            "__________________________________________________________________________________________________\n",
            "tf_op_layer_Reshape_5 (TensorFl [(1, None, 2)]       0           tf_op_layer_Mul_5[0][0]          \n",
            "__________________________________________________________________________________________________\n",
            "tf_op_layer_Reshape_15 (TensorF [(1, None, 2)]       0           tf_op_layer_Mul_19[0][0]         \n",
            "__________________________________________________________________________________________________\n",
            "tf_op_layer_Reshape_16 (TensorF [(1, None, 2)]       0           tf_op_layer_Mul_21[0][0]         \n",
            "__________________________________________________________________________________________________\n",
            "tf_op_layer_Reshape_17 (TensorF [(1, None, 2)]       0           tf_op_layer_Mul_23[0][0]         \n",
            "__________________________________________________________________________________________________\n",
            "tf_op_layer_Reshape_12 (TensorF [(1, None, 2)]       0           tf_op_layer_Mul_15[0][0]         \n",
            "__________________________________________________________________________________________________\n",
            "tf_op_layer_Reshape_13 (TensorF [(1, None, 2)]       0           tf_op_layer_Mul_16[0][0]         \n",
            "__________________________________________________________________________________________________\n",
            "tf_op_layer_Reshape_14 (TensorF [(1, None, 2)]       0           tf_op_layer_Mul_17[0][0]         \n",
            "__________________________________________________________________________________________________\n",
            "tf_op_layer_Mul (TensorFlowOpLa [(None, 26, 26, 1)]  0           tf_op_layer_strided_slice[0][0]  \n",
            "                                                                 tf_op_layer_strided_slice_1[0][0]\n",
            "__________________________________________________________________________________________________\n",
            "tf_op_layer_Mul_1 (TensorFlowOp [(None, 26, 26, 1)]  0           tf_op_layer_strided_slice_2[0][0]\n",
            "                                                                 tf_op_layer_strided_slice_3[0][0]\n",
            "__________________________________________________________________________________________________\n",
            "tf_op_layer_Mul_2 (TensorFlowOp [(None, 26, 26, 1)]  0           tf_op_layer_strided_slice_4[0][0]\n",
            "                                                                 tf_op_layer_strided_slice_5[0][0]\n",
            "__________________________________________________________________________________________________\n",
            "tf_op_layer_Mul_12 (TensorFlowO [(None, 13, 13, 1)]  0           tf_op_layer_strided_slice_6[0][0]\n",
            "                                                                 tf_op_layer_strided_slice_7[0][0]\n",
            "__________________________________________________________________________________________________\n",
            "tf_op_layer_Mul_13 (TensorFlowO [(None, 13, 13, 1)]  0           tf_op_layer_strided_slice_8[0][0]\n",
            "                                                                 tf_op_layer_strided_slice_9[0][0]\n",
            "__________________________________________________________________________________________________\n",
            "tf_op_layer_Mul_14 (TensorFlowO [(None, 13, 13, 1)]  0           tf_op_layer_strided_slice_10[0][0\n",
            "                                                                 tf_op_layer_strided_slice_11[0][0\n",
            "__________________________________________________________________________________________________\n",
            "tf_op_layer_concat_9 (TensorFlo [(1, None, 2)]       0           tf_op_layer_Reshape_6[0][0]      \n",
            "                                                                 tf_op_layer_Reshape_7[0][0]      \n",
            "                                                                 tf_op_layer_Reshape_8[0][0]      \n",
            "__________________________________________________________________________________________________\n",
            "tf_op_layer_concat_8 (TensorFlo [(1, None, 2)]       0           tf_op_layer_Reshape_3[0][0]      \n",
            "                                                                 tf_op_layer_Reshape_4[0][0]      \n",
            "                                                                 tf_op_layer_Reshape_5[0][0]      \n",
            "__________________________________________________________________________________________________\n",
            "tf_op_layer_concat_13 (TensorFl [(1, None, 2)]       0           tf_op_layer_Reshape_15[0][0]     \n",
            "                                                                 tf_op_layer_Reshape_16[0][0]     \n",
            "                                                                 tf_op_layer_Reshape_17[0][0]     \n",
            "__________________________________________________________________________________________________\n",
            "tf_op_layer_concat_12 (TensorFl [(1, None, 2)]       0           tf_op_layer_Reshape_12[0][0]     \n",
            "                                                                 tf_op_layer_Reshape_13[0][0]     \n",
            "                                                                 tf_op_layer_Reshape_14[0][0]     \n",
            "__________________________________________________________________________________________________\n",
            "tf_op_layer_Reshape (TensorFlow [(1, None, 1)]       0           tf_op_layer_Mul[0][0]            \n",
            "__________________________________________________________________________________________________\n",
            "tf_op_layer_Reshape_1 (TensorFl [(1, None, 1)]       0           tf_op_layer_Mul_1[0][0]          \n",
            "__________________________________________________________________________________________________\n",
            "tf_op_layer_Reshape_2 (TensorFl [(1, None, 1)]       0           tf_op_layer_Mul_2[0][0]          \n",
            "__________________________________________________________________________________________________\n",
            "tf_op_layer_Reshape_9 (TensorFl [(1, None, 1)]       0           tf_op_layer_Mul_12[0][0]         \n",
            "__________________________________________________________________________________________________\n",
            "tf_op_layer_Reshape_10 (TensorF [(1, None, 1)]       0           tf_op_layer_Mul_13[0][0]         \n",
            "__________________________________________________________________________________________________\n",
            "tf_op_layer_Reshape_11 (TensorF [(1, None, 1)]       0           tf_op_layer_Mul_14[0][0]         \n",
            "__________________________________________________________________________________________________\n",
            "tf_op_layer_concat_10 (TensorFl [(1, None, 4)]       0           tf_op_layer_concat_9[0][0]       \n",
            "                                                                 tf_op_layer_concat_8[0][0]       \n",
            "__________________________________________________________________________________________________\n",
            "tf_op_layer_concat_14 (TensorFl [(1, None, 4)]       0           tf_op_layer_concat_13[0][0]      \n",
            "                                                                 tf_op_layer_concat_12[0][0]      \n",
            "__________________________________________________________________________________________________\n",
            "tf_op_layer_concat_7 (TensorFlo [(1, None, 1)]       0           tf_op_layer_Reshape[0][0]        \n",
            "                                                                 tf_op_layer_Reshape_1[0][0]      \n",
            "                                                                 tf_op_layer_Reshape_2[0][0]      \n",
            "__________________________________________________________________________________________________\n",
            "tf_op_layer_concat_11 (TensorFl [(1, None, 1)]       0           tf_op_layer_Reshape_9[0][0]      \n",
            "                                                                 tf_op_layer_Reshape_10[0][0]     \n",
            "                                                                 tf_op_layer_Reshape_11[0][0]     \n",
            "__________________________________________________________________________________________________\n",
            "tf_op_layer_concat_15 (TensorFl [(1, None, 4)]       0           tf_op_layer_concat_10[0][0]      \n",
            "                                                                 tf_op_layer_concat_14[0][0]      \n",
            "__________________________________________________________________________________________________\n",
            "tf_op_layer_concat_16 (TensorFl [(1, None, 1)]       0           tf_op_layer_concat_7[0][0]       \n",
            "                                                                 tf_op_layer_concat_11[0][0]      \n",
            "==================================================================================================\n",
            "Total params: 5,880,324\n",
            "Trainable params: 5,874,116\n",
            "Non-trainable params: 6,208\n",
            "__________________________________________________________________________________________________\n",
            "2021-04-12 00:39:58.605458: W tensorflow/python/util/util.cc:348] Sets are not currently considered sequences, but this may change in the future, so consider avoiding using them.\n",
            "INFO:tensorflow:Assets written to: ./checkpoints/yolov4-tiny-baseline/assets\n",
            "I0412 00:40:05.929390 140600585430912 builder_impl.py:775] Assets written to: ./checkpoints/yolov4-tiny-baseline/assets\n"
          ],
          "name": "stdout"
        }
      ]
    },
    {
      "cell_type": "code",
      "metadata": {
        "colab": {
          "base_uri": "https://localhost:8080/"
        },
        "id": "TkLUt-yNwgS2",
        "outputId": "ad1d17d1-70d0-4a4b-a69d-b54e30bc2ee9"
      },
      "source": [
        "!python convert_tflite.py --weights ./checkpoints/yolov4-tiny-baseline --output ./checkpoints/yolov4-tiny-baseline-fp16.tflite --quantize_mode float16"
      ],
      "execution_count": 8,
      "outputs": [
        {
          "output_type": "stream",
          "text": [
            "2021-04-12 00:40:30.501309: I tensorflow/stream_executor/platform/default/dso_loader.cc:48] Successfully opened dynamic library libcudart.so.10.1\n",
            "2021-04-12 00:40:31.688625: I tensorflow/stream_executor/platform/default/dso_loader.cc:48] Successfully opened dynamic library libcuda.so.1\n",
            "2021-04-12 00:40:31.717689: I tensorflow/stream_executor/cuda/cuda_gpu_executor.cc:982] successful NUMA node read from SysFS had negative value (-1), but there must be at least one NUMA node, so returning NUMA node zero\n",
            "2021-04-12 00:40:31.718295: I tensorflow/core/common_runtime/gpu/gpu_device.cc:1716] Found device 0 with properties: \n",
            "pciBusID: 0000:00:04.0 name: Tesla T4 computeCapability: 7.5\n",
            "coreClock: 1.59GHz coreCount: 40 deviceMemorySize: 14.75GiB deviceMemoryBandwidth: 298.08GiB/s\n",
            "2021-04-12 00:40:31.718339: I tensorflow/stream_executor/platform/default/dso_loader.cc:48] Successfully opened dynamic library libcudart.so.10.1\n",
            "2021-04-12 00:40:31.719989: I tensorflow/stream_executor/platform/default/dso_loader.cc:48] Successfully opened dynamic library libcublas.so.10\n",
            "2021-04-12 00:40:31.721663: I tensorflow/stream_executor/platform/default/dso_loader.cc:48] Successfully opened dynamic library libcufft.so.10\n",
            "2021-04-12 00:40:31.722019: I tensorflow/stream_executor/platform/default/dso_loader.cc:48] Successfully opened dynamic library libcurand.so.10\n",
            "2021-04-12 00:40:31.723629: I tensorflow/stream_executor/platform/default/dso_loader.cc:48] Successfully opened dynamic library libcusolver.so.10\n",
            "2021-04-12 00:40:31.724708: I tensorflow/stream_executor/platform/default/dso_loader.cc:48] Successfully opened dynamic library libcusparse.so.10\n",
            "2021-04-12 00:40:31.728654: I tensorflow/stream_executor/platform/default/dso_loader.cc:48] Successfully opened dynamic library libcudnn.so.7\n",
            "2021-04-12 00:40:31.728772: I tensorflow/stream_executor/cuda/cuda_gpu_executor.cc:982] successful NUMA node read from SysFS had negative value (-1), but there must be at least one NUMA node, so returning NUMA node zero\n",
            "2021-04-12 00:40:31.729370: I tensorflow/stream_executor/cuda/cuda_gpu_executor.cc:982] successful NUMA node read from SysFS had negative value (-1), but there must be at least one NUMA node, so returning NUMA node zero\n",
            "2021-04-12 00:40:31.729875: I tensorflow/core/common_runtime/gpu/gpu_device.cc:1858] Adding visible gpu devices: 0\n",
            "2021-04-12 00:40:31.730217: I tensorflow/core/platform/cpu_feature_guard.cc:142] This TensorFlow binary is optimized with oneAPI Deep Neural Network Library (oneDNN)to use the following CPU instructions in performance-critical operations:  AVX2 FMA\n",
            "To enable them in other operations, rebuild TensorFlow with the appropriate compiler flags.\n",
            "2021-04-12 00:40:31.734981: I tensorflow/core/platform/profile_utils/cpu_utils.cc:104] CPU Frequency: 2199995000 Hz\n",
            "2021-04-12 00:40:31.735157: I tensorflow/compiler/xla/service/service.cc:168] XLA service 0x55c315838bc0 initialized for platform Host (this does not guarantee that XLA will be used). Devices:\n",
            "2021-04-12 00:40:31.735184: I tensorflow/compiler/xla/service/service.cc:176]   StreamExecutor device (0): Host, Default Version\n",
            "2021-04-12 00:40:31.841224: I tensorflow/stream_executor/cuda/cuda_gpu_executor.cc:982] successful NUMA node read from SysFS had negative value (-1), but there must be at least one NUMA node, so returning NUMA node zero\n",
            "2021-04-12 00:40:31.841950: I tensorflow/compiler/xla/service/service.cc:168] XLA service 0x55c315838d80 initialized for platform CUDA (this does not guarantee that XLA will be used). Devices:\n",
            "2021-04-12 00:40:31.841981: I tensorflow/compiler/xla/service/service.cc:176]   StreamExecutor device (0): Tesla T4, Compute Capability 7.5\n",
            "2021-04-12 00:40:31.842152: I tensorflow/stream_executor/cuda/cuda_gpu_executor.cc:982] successful NUMA node read from SysFS had negative value (-1), but there must be at least one NUMA node, so returning NUMA node zero\n",
            "2021-04-12 00:40:31.842685: I tensorflow/core/common_runtime/gpu/gpu_device.cc:1716] Found device 0 with properties: \n",
            "pciBusID: 0000:00:04.0 name: Tesla T4 computeCapability: 7.5\n",
            "coreClock: 1.59GHz coreCount: 40 deviceMemorySize: 14.75GiB deviceMemoryBandwidth: 298.08GiB/s\n",
            "2021-04-12 00:40:31.842725: I tensorflow/stream_executor/platform/default/dso_loader.cc:48] Successfully opened dynamic library libcudart.so.10.1\n",
            "2021-04-12 00:40:31.842768: I tensorflow/stream_executor/platform/default/dso_loader.cc:48] Successfully opened dynamic library libcublas.so.10\n",
            "2021-04-12 00:40:31.842788: I tensorflow/stream_executor/platform/default/dso_loader.cc:48] Successfully opened dynamic library libcufft.so.10\n",
            "2021-04-12 00:40:31.842808: I tensorflow/stream_executor/platform/default/dso_loader.cc:48] Successfully opened dynamic library libcurand.so.10\n",
            "2021-04-12 00:40:31.842826: I tensorflow/stream_executor/platform/default/dso_loader.cc:48] Successfully opened dynamic library libcusolver.so.10\n",
            "2021-04-12 00:40:31.842843: I tensorflow/stream_executor/platform/default/dso_loader.cc:48] Successfully opened dynamic library libcusparse.so.10\n",
            "2021-04-12 00:40:31.842862: I tensorflow/stream_executor/platform/default/dso_loader.cc:48] Successfully opened dynamic library libcudnn.so.7\n",
            "2021-04-12 00:40:31.842939: I tensorflow/stream_executor/cuda/cuda_gpu_executor.cc:982] successful NUMA node read from SysFS had negative value (-1), but there must be at least one NUMA node, so returning NUMA node zero\n",
            "2021-04-12 00:40:31.843486: I tensorflow/stream_executor/cuda/cuda_gpu_executor.cc:982] successful NUMA node read from SysFS had negative value (-1), but there must be at least one NUMA node, so returning NUMA node zero\n",
            "2021-04-12 00:40:31.843994: I tensorflow/core/common_runtime/gpu/gpu_device.cc:1858] Adding visible gpu devices: 0\n",
            "2021-04-12 00:40:31.844043: I tensorflow/stream_executor/platform/default/dso_loader.cc:48] Successfully opened dynamic library libcudart.so.10.1\n",
            "2021-04-12 00:40:32.338091: I tensorflow/core/common_runtime/gpu/gpu_device.cc:1257] Device interconnect StreamExecutor with strength 1 edge matrix:\n",
            "2021-04-12 00:40:32.338142: I tensorflow/core/common_runtime/gpu/gpu_device.cc:1263]      0 \n",
            "2021-04-12 00:40:32.338154: I tensorflow/core/common_runtime/gpu/gpu_device.cc:1276] 0:   N \n",
            "2021-04-12 00:40:32.338337: I tensorflow/stream_executor/cuda/cuda_gpu_executor.cc:982] successful NUMA node read from SysFS had negative value (-1), but there must be at least one NUMA node, so returning NUMA node zero\n",
            "2021-04-12 00:40:32.338949: I tensorflow/stream_executor/cuda/cuda_gpu_executor.cc:982] successful NUMA node read from SysFS had negative value (-1), but there must be at least one NUMA node, so returning NUMA node zero\n",
            "2021-04-12 00:40:32.339457: W tensorflow/core/common_runtime/gpu/gpu_bfc_allocator.cc:39] Overriding allow_growth setting because the TF_FORCE_GPU_ALLOW_GROWTH environment variable is set. Original config value was 0.\n",
            "2021-04-12 00:40:32.339496: I tensorflow/core/common_runtime/gpu/gpu_device.cc:1402] Created TensorFlow device (/job:localhost/replica:0/task:0/device:GPU:0 with 13970 MB memory) -> physical GPU (device: 0, name: Tesla T4, pci bus id: 0000:00:04.0, compute capability: 7.5)\n",
            "2021-04-12 00:40:36.093431: I tensorflow/stream_executor/cuda/cuda_gpu_executor.cc:982] successful NUMA node read from SysFS had negative value (-1), but there must be at least one NUMA node, so returning NUMA node zero\n",
            "2021-04-12 00:40:36.094047: I tensorflow/core/grappler/devices.cc:69] Number of eligible GPUs (core count >= 8, compute capability >= 0.0): 1\n",
            "2021-04-12 00:40:36.094174: I tensorflow/core/grappler/clusters/single_machine.cc:356] Starting new session\n",
            "2021-04-12 00:40:36.094720: I tensorflow/stream_executor/cuda/cuda_gpu_executor.cc:982] successful NUMA node read from SysFS had negative value (-1), but there must be at least one NUMA node, so returning NUMA node zero\n",
            "2021-04-12 00:40:36.095299: I tensorflow/core/common_runtime/gpu/gpu_device.cc:1716] Found device 0 with properties: \n",
            "pciBusID: 0000:00:04.0 name: Tesla T4 computeCapability: 7.5\n",
            "coreClock: 1.59GHz coreCount: 40 deviceMemorySize: 14.75GiB deviceMemoryBandwidth: 298.08GiB/s\n",
            "2021-04-12 00:40:36.095340: I tensorflow/stream_executor/platform/default/dso_loader.cc:48] Successfully opened dynamic library libcudart.so.10.1\n",
            "2021-04-12 00:40:36.095385: I tensorflow/stream_executor/platform/default/dso_loader.cc:48] Successfully opened dynamic library libcublas.so.10\n",
            "2021-04-12 00:40:36.095405: I tensorflow/stream_executor/platform/default/dso_loader.cc:48] Successfully opened dynamic library libcufft.so.10\n",
            "2021-04-12 00:40:36.095425: I tensorflow/stream_executor/platform/default/dso_loader.cc:48] Successfully opened dynamic library libcurand.so.10\n",
            "2021-04-12 00:40:36.095444: I tensorflow/stream_executor/platform/default/dso_loader.cc:48] Successfully opened dynamic library libcusolver.so.10\n",
            "2021-04-12 00:40:36.095462: I tensorflow/stream_executor/platform/default/dso_loader.cc:48] Successfully opened dynamic library libcusparse.so.10\n",
            "2021-04-12 00:40:36.095479: I tensorflow/stream_executor/platform/default/dso_loader.cc:48] Successfully opened dynamic library libcudnn.so.7\n",
            "2021-04-12 00:40:36.095546: I tensorflow/stream_executor/cuda/cuda_gpu_executor.cc:982] successful NUMA node read from SysFS had negative value (-1), but there must be at least one NUMA node, so returning NUMA node zero\n",
            "2021-04-12 00:40:36.096103: I tensorflow/stream_executor/cuda/cuda_gpu_executor.cc:982] successful NUMA node read from SysFS had negative value (-1), but there must be at least one NUMA node, so returning NUMA node zero\n",
            "2021-04-12 00:40:36.096591: I tensorflow/core/common_runtime/gpu/gpu_device.cc:1858] Adding visible gpu devices: 0\n",
            "2021-04-12 00:40:36.096629: I tensorflow/core/common_runtime/gpu/gpu_device.cc:1257] Device interconnect StreamExecutor with strength 1 edge matrix:\n",
            "2021-04-12 00:40:36.096642: I tensorflow/core/common_runtime/gpu/gpu_device.cc:1263]      0 \n",
            "2021-04-12 00:40:36.096658: I tensorflow/core/common_runtime/gpu/gpu_device.cc:1276] 0:   N \n",
            "2021-04-12 00:40:36.096745: I tensorflow/stream_executor/cuda/cuda_gpu_executor.cc:982] successful NUMA node read from SysFS had negative value (-1), but there must be at least one NUMA node, so returning NUMA node zero\n",
            "2021-04-12 00:40:36.097344: I tensorflow/stream_executor/cuda/cuda_gpu_executor.cc:982] successful NUMA node read from SysFS had negative value (-1), but there must be at least one NUMA node, so returning NUMA node zero\n",
            "2021-04-12 00:40:36.097871: I tensorflow/core/common_runtime/gpu/gpu_device.cc:1402] Created TensorFlow device (/job:localhost/replica:0/task:0/device:GPU:0 with 13970 MB memory) -> physical GPU (device: 0, name: Tesla T4, pci bus id: 0000:00:04.0, compute capability: 7.5)\n",
            "2021-04-12 00:40:36.119682: I tensorflow/core/grappler/optimizers/meta_optimizer.cc:816] Optimization results for grappler item: graph_to_optimize\n",
            "2021-04-12 00:40:36.119720: I tensorflow/core/grappler/optimizers/meta_optimizer.cc:818]   function_optimizer: Graph size after: 647 nodes (544), 657 edges (553), time = 9.977ms.\n",
            "2021-04-12 00:40:36.119729: I tensorflow/core/grappler/optimizers/meta_optimizer.cc:818]   function_optimizer: function_optimizer did nothing. time = 0.415ms.\n",
            "I0412 00:40:36.757766 139916879116160 lite.py:624] Using experimental converter: If you encountered a problem please file a bug. You can opt-out by setting experimental_new_converter=False\n",
            "2021-04-12 00:40:36.798761: W tensorflow/compiler/mlir/lite/python/tf_tfl_flatbuffer_helpers.cc:313] Ignored output_format.\n",
            "2021-04-12 00:40:36.798824: W tensorflow/compiler/mlir/lite/python/tf_tfl_flatbuffer_helpers.cc:316] Ignored drop_control_dependency.\n",
            "2021-04-12 00:40:36.848076: I tensorflow/stream_executor/cuda/cuda_gpu_executor.cc:982] successful NUMA node read from SysFS had negative value (-1), but there must be at least one NUMA node, so returning NUMA node zero\n",
            "2021-04-12 00:40:36.848662: I tensorflow/core/common_runtime/gpu/gpu_device.cc:1716] Found device 0 with properties: \n",
            "pciBusID: 0000:00:04.0 name: Tesla T4 computeCapability: 7.5\n",
            "coreClock: 1.59GHz coreCount: 40 deviceMemorySize: 14.75GiB deviceMemoryBandwidth: 298.08GiB/s\n",
            "2021-04-12 00:40:36.848711: I tensorflow/stream_executor/platform/default/dso_loader.cc:48] Successfully opened dynamic library libcudart.so.10.1\n",
            "2021-04-12 00:40:36.848764: I tensorflow/stream_executor/platform/default/dso_loader.cc:48] Successfully opened dynamic library libcublas.so.10\n",
            "2021-04-12 00:40:36.848785: I tensorflow/stream_executor/platform/default/dso_loader.cc:48] Successfully opened dynamic library libcufft.so.10\n",
            "2021-04-12 00:40:36.848805: I tensorflow/stream_executor/platform/default/dso_loader.cc:48] Successfully opened dynamic library libcurand.so.10\n",
            "2021-04-12 00:40:36.848828: I tensorflow/stream_executor/platform/default/dso_loader.cc:48] Successfully opened dynamic library libcusolver.so.10\n",
            "2021-04-12 00:40:36.848846: I tensorflow/stream_executor/platform/default/dso_loader.cc:48] Successfully opened dynamic library libcusparse.so.10\n",
            "2021-04-12 00:40:36.848864: I tensorflow/stream_executor/platform/default/dso_loader.cc:48] Successfully opened dynamic library libcudnn.so.7\n",
            "2021-04-12 00:40:36.848963: I tensorflow/stream_executor/cuda/cuda_gpu_executor.cc:982] successful NUMA node read from SysFS had negative value (-1), but there must be at least one NUMA node, so returning NUMA node zero\n",
            "2021-04-12 00:40:36.849544: I tensorflow/stream_executor/cuda/cuda_gpu_executor.cc:982] successful NUMA node read from SysFS had negative value (-1), but there must be at least one NUMA node, so returning NUMA node zero\n",
            "2021-04-12 00:40:36.850049: I tensorflow/core/common_runtime/gpu/gpu_device.cc:1858] Adding visible gpu devices: 0\n",
            "2021-04-12 00:40:36.850092: I tensorflow/core/common_runtime/gpu/gpu_device.cc:1257] Device interconnect StreamExecutor with strength 1 edge matrix:\n",
            "2021-04-12 00:40:36.850105: I tensorflow/core/common_runtime/gpu/gpu_device.cc:1263]      0 \n",
            "2021-04-12 00:40:36.850114: I tensorflow/core/common_runtime/gpu/gpu_device.cc:1276] 0:   N \n",
            "2021-04-12 00:40:36.850206: I tensorflow/stream_executor/cuda/cuda_gpu_executor.cc:982] successful NUMA node read from SysFS had negative value (-1), but there must be at least one NUMA node, so returning NUMA node zero\n",
            "2021-04-12 00:40:36.850751: I tensorflow/stream_executor/cuda/cuda_gpu_executor.cc:982] successful NUMA node read from SysFS had negative value (-1), but there must be at least one NUMA node, so returning NUMA node zero\n",
            "2021-04-12 00:40:36.851509: I tensorflow/core/common_runtime/gpu/gpu_device.cc:1402] Created TensorFlow device (/job:localhost/replica:0/task:0/device:GPU:0 with 13970 MB memory) -> physical GPU (device: 0, name: Tesla T4, pci bus id: 0000:00:04.0, compute capability: 7.5)\n",
            "I0412 00:40:37.165932 139916879116160 convert_tflite.py:48] model saved to: ./checkpoints/yolov4-tiny-baseline-fp16.tflite\n",
            "I0412 00:40:37.206660 139916879116160 convert_tflite.py:53] tflite model loaded\n",
            "[{'name': 'input_1', 'index': 0, 'shape': array([  1, 416, 416,   3], dtype=int32), 'shape_signature': array([ -1, 416, 416,   3], dtype=int32), 'dtype': <class 'numpy.float32'>, 'quantization': (0.0, 0), 'quantization_parameters': {'scales': array([], dtype=float32), 'zero_points': array([], dtype=int32), 'quantized_dimension': 0}, 'sparsity_parameters': {}}]\n",
            "[{'name': 'Identity', 'index': 233, 'shape': array([   1, 2535,    4], dtype=int32), 'shape_signature': array([ 1, -1,  4], dtype=int32), 'dtype': <class 'numpy.float32'>, 'quantization': (0.0, 0), 'quantization_parameters': {'scales': array([], dtype=float32), 'zero_points': array([], dtype=int32), 'quantized_dimension': 0}, 'sparsity_parameters': {}}, {'name': 'Identity_1', 'index': 212, 'shape': array([   1, 2535,    1], dtype=int32), 'shape_signature': array([ 1, -1,  1], dtype=int32), 'dtype': <class 'numpy.float32'>, 'quantization': (0.0, 0), 'quantization_parameters': {'scales': array([], dtype=float32), 'zero_points': array([], dtype=int32), 'quantized_dimension': 0}, 'sparsity_parameters': {}}]\n",
            "[array([[[ 12.130766 ,   7.7301855,  26.201336 ,  17.291569 ],\n",
            "        [ 26.58039  ,   7.463675 ,  41.0207   ,  13.129109 ],\n",
            "        [ 42.13038  ,   8.54199  ,  45.86516  ,  13.973359 ],\n",
            "        ...,\n",
            "        [336.67383  , 400.01648  , 213.76697  ,  72.28279  ],\n",
            "        [367.4336   , 399.14056  , 254.18658  ,  80.708534 ],\n",
            "        [400.33865  , 398.15814  , 268.14642  ,  86.33776  ]]],\n",
            "      dtype=float32), array([[[7.8892568e-05],\n",
            "        [2.6478534e-04],\n",
            "        [5.1013607e-04],\n",
            "        ...,\n",
            "        [1.6368773e-10],\n",
            "        [3.4614075e-10],\n",
            "        [2.2134112e-09]]], dtype=float32)]\n"
          ],
          "name": "stdout"
        }
      ]
    },
    {
      "cell_type": "markdown",
      "metadata": {
        "id": "oXsZ1q_m9OhU"
      },
      "source": [
        ""
      ]
    },
    {
      "cell_type": "code",
      "metadata": {
        "id": "cFaax0LS9_rK",
        "colab": {
          "base_uri": "https://localhost:8080/"
        },
        "outputId": "fcf90e67-69af-47b0-8e33-81d42d3c91c2"
      },
      "source": [
        "!python convert_tflite.py --weights ./checkpoints/yolov4-tiny-baseline --output ./checkpoints/yolov4-tiny-baseline-int8.tflite --quantize_mode int8"
      ],
      "execution_count": 10,
      "outputs": [
        {
          "output_type": "stream",
          "text": [
            "2021-04-12 00:41:12.804374: I tensorflow/stream_executor/platform/default/dso_loader.cc:48] Successfully opened dynamic library libcudart.so.10.1\n",
            "2021-04-12 00:41:13.973010: I tensorflow/stream_executor/platform/default/dso_loader.cc:48] Successfully opened dynamic library libcuda.so.1\n",
            "2021-04-12 00:41:14.002304: I tensorflow/stream_executor/cuda/cuda_gpu_executor.cc:982] successful NUMA node read from SysFS had negative value (-1), but there must be at least one NUMA node, so returning NUMA node zero\n",
            "2021-04-12 00:41:14.002922: I tensorflow/core/common_runtime/gpu/gpu_device.cc:1716] Found device 0 with properties: \n",
            "pciBusID: 0000:00:04.0 name: Tesla T4 computeCapability: 7.5\n",
            "coreClock: 1.59GHz coreCount: 40 deviceMemorySize: 14.75GiB deviceMemoryBandwidth: 298.08GiB/s\n",
            "2021-04-12 00:41:14.002965: I tensorflow/stream_executor/platform/default/dso_loader.cc:48] Successfully opened dynamic library libcudart.so.10.1\n",
            "2021-04-12 00:41:14.004403: I tensorflow/stream_executor/platform/default/dso_loader.cc:48] Successfully opened dynamic library libcublas.so.10\n",
            "2021-04-12 00:41:14.006044: I tensorflow/stream_executor/platform/default/dso_loader.cc:48] Successfully opened dynamic library libcufft.so.10\n",
            "2021-04-12 00:41:14.006362: I tensorflow/stream_executor/platform/default/dso_loader.cc:48] Successfully opened dynamic library libcurand.so.10\n",
            "2021-04-12 00:41:14.007949: I tensorflow/stream_executor/platform/default/dso_loader.cc:48] Successfully opened dynamic library libcusolver.so.10\n",
            "2021-04-12 00:41:14.009214: I tensorflow/stream_executor/platform/default/dso_loader.cc:48] Successfully opened dynamic library libcusparse.so.10\n",
            "2021-04-12 00:41:14.012770: I tensorflow/stream_executor/platform/default/dso_loader.cc:48] Successfully opened dynamic library libcudnn.so.7\n",
            "2021-04-12 00:41:14.012899: I tensorflow/stream_executor/cuda/cuda_gpu_executor.cc:982] successful NUMA node read from SysFS had negative value (-1), but there must be at least one NUMA node, so returning NUMA node zero\n",
            "2021-04-12 00:41:14.013503: I tensorflow/stream_executor/cuda/cuda_gpu_executor.cc:982] successful NUMA node read from SysFS had negative value (-1), but there must be at least one NUMA node, so returning NUMA node zero\n",
            "2021-04-12 00:41:14.014068: I tensorflow/core/common_runtime/gpu/gpu_device.cc:1858] Adding visible gpu devices: 0\n",
            "2021-04-12 00:41:14.014425: I tensorflow/core/platform/cpu_feature_guard.cc:142] This TensorFlow binary is optimized with oneAPI Deep Neural Network Library (oneDNN)to use the following CPU instructions in performance-critical operations:  AVX2 FMA\n",
            "To enable them in other operations, rebuild TensorFlow with the appropriate compiler flags.\n",
            "2021-04-12 00:41:14.019300: I tensorflow/core/platform/profile_utils/cpu_utils.cc:104] CPU Frequency: 2199995000 Hz\n",
            "2021-04-12 00:41:14.019478: I tensorflow/compiler/xla/service/service.cc:168] XLA service 0x561e1ec6abc0 initialized for platform Host (this does not guarantee that XLA will be used). Devices:\n",
            "2021-04-12 00:41:14.019505: I tensorflow/compiler/xla/service/service.cc:176]   StreamExecutor device (0): Host, Default Version\n",
            "2021-04-12 00:41:14.125983: I tensorflow/stream_executor/cuda/cuda_gpu_executor.cc:982] successful NUMA node read from SysFS had negative value (-1), but there must be at least one NUMA node, so returning NUMA node zero\n",
            "2021-04-12 00:41:14.126683: I tensorflow/compiler/xla/service/service.cc:168] XLA service 0x561e1ec6ad80 initialized for platform CUDA (this does not guarantee that XLA will be used). Devices:\n",
            "2021-04-12 00:41:14.126715: I tensorflow/compiler/xla/service/service.cc:176]   StreamExecutor device (0): Tesla T4, Compute Capability 7.5\n",
            "2021-04-12 00:41:14.126895: I tensorflow/stream_executor/cuda/cuda_gpu_executor.cc:982] successful NUMA node read from SysFS had negative value (-1), but there must be at least one NUMA node, so returning NUMA node zero\n",
            "2021-04-12 00:41:14.127420: I tensorflow/core/common_runtime/gpu/gpu_device.cc:1716] Found device 0 with properties: \n",
            "pciBusID: 0000:00:04.0 name: Tesla T4 computeCapability: 7.5\n",
            "coreClock: 1.59GHz coreCount: 40 deviceMemorySize: 14.75GiB deviceMemoryBandwidth: 298.08GiB/s\n",
            "2021-04-12 00:41:14.127467: I tensorflow/stream_executor/platform/default/dso_loader.cc:48] Successfully opened dynamic library libcudart.so.10.1\n",
            "2021-04-12 00:41:14.127511: I tensorflow/stream_executor/platform/default/dso_loader.cc:48] Successfully opened dynamic library libcublas.so.10\n",
            "2021-04-12 00:41:14.127531: I tensorflow/stream_executor/platform/default/dso_loader.cc:48] Successfully opened dynamic library libcufft.so.10\n",
            "2021-04-12 00:41:14.127551: I tensorflow/stream_executor/platform/default/dso_loader.cc:48] Successfully opened dynamic library libcurand.so.10\n",
            "2021-04-12 00:41:14.127569: I tensorflow/stream_executor/platform/default/dso_loader.cc:48] Successfully opened dynamic library libcusolver.so.10\n",
            "2021-04-12 00:41:14.127586: I tensorflow/stream_executor/platform/default/dso_loader.cc:48] Successfully opened dynamic library libcusparse.so.10\n",
            "2021-04-12 00:41:14.127604: I tensorflow/stream_executor/platform/default/dso_loader.cc:48] Successfully opened dynamic library libcudnn.so.7\n",
            "2021-04-12 00:41:14.127670: I tensorflow/stream_executor/cuda/cuda_gpu_executor.cc:982] successful NUMA node read from SysFS had negative value (-1), but there must be at least one NUMA node, so returning NUMA node zero\n",
            "2021-04-12 00:41:14.128249: I tensorflow/stream_executor/cuda/cuda_gpu_executor.cc:982] successful NUMA node read from SysFS had negative value (-1), but there must be at least one NUMA node, so returning NUMA node zero\n",
            "2021-04-12 00:41:14.128745: I tensorflow/core/common_runtime/gpu/gpu_device.cc:1858] Adding visible gpu devices: 0\n",
            "2021-04-12 00:41:14.128791: I tensorflow/stream_executor/platform/default/dso_loader.cc:48] Successfully opened dynamic library libcudart.so.10.1\n",
            "2021-04-12 00:41:14.624039: I tensorflow/core/common_runtime/gpu/gpu_device.cc:1257] Device interconnect StreamExecutor with strength 1 edge matrix:\n",
            "2021-04-12 00:41:14.624093: I tensorflow/core/common_runtime/gpu/gpu_device.cc:1263]      0 \n",
            "2021-04-12 00:41:14.624105: I tensorflow/core/common_runtime/gpu/gpu_device.cc:1276] 0:   N \n",
            "2021-04-12 00:41:14.624289: I tensorflow/stream_executor/cuda/cuda_gpu_executor.cc:982] successful NUMA node read from SysFS had negative value (-1), but there must be at least one NUMA node, so returning NUMA node zero\n",
            "2021-04-12 00:41:14.624891: I tensorflow/stream_executor/cuda/cuda_gpu_executor.cc:982] successful NUMA node read from SysFS had negative value (-1), but there must be at least one NUMA node, so returning NUMA node zero\n",
            "2021-04-12 00:41:14.625402: W tensorflow/core/common_runtime/gpu/gpu_bfc_allocator.cc:39] Overriding allow_growth setting because the TF_FORCE_GPU_ALLOW_GROWTH environment variable is set. Original config value was 0.\n",
            "2021-04-12 00:41:14.625446: I tensorflow/core/common_runtime/gpu/gpu_device.cc:1402] Created TensorFlow device (/job:localhost/replica:0/task:0/device:GPU:0 with 13970 MB memory) -> physical GPU (device: 0, name: Tesla T4, pci bus id: 0000:00:04.0, compute capability: 7.5)\n",
            "2021-04-12 00:41:18.340170: I tensorflow/stream_executor/cuda/cuda_gpu_executor.cc:982] successful NUMA node read from SysFS had negative value (-1), but there must be at least one NUMA node, so returning NUMA node zero\n",
            "2021-04-12 00:41:18.340789: I tensorflow/core/grappler/devices.cc:69] Number of eligible GPUs (core count >= 8, compute capability >= 0.0): 1\n",
            "2021-04-12 00:41:18.340930: I tensorflow/core/grappler/clusters/single_machine.cc:356] Starting new session\n",
            "2021-04-12 00:41:18.341538: I tensorflow/stream_executor/cuda/cuda_gpu_executor.cc:982] successful NUMA node read from SysFS had negative value (-1), but there must be at least one NUMA node, so returning NUMA node zero\n",
            "2021-04-12 00:41:18.342106: I tensorflow/core/common_runtime/gpu/gpu_device.cc:1716] Found device 0 with properties: \n",
            "pciBusID: 0000:00:04.0 name: Tesla T4 computeCapability: 7.5\n",
            "coreClock: 1.59GHz coreCount: 40 deviceMemorySize: 14.75GiB deviceMemoryBandwidth: 298.08GiB/s\n",
            "2021-04-12 00:41:18.342152: I tensorflow/stream_executor/platform/default/dso_loader.cc:48] Successfully opened dynamic library libcudart.so.10.1\n",
            "2021-04-12 00:41:18.342198: I tensorflow/stream_executor/platform/default/dso_loader.cc:48] Successfully opened dynamic library libcublas.so.10\n",
            "2021-04-12 00:41:18.342222: I tensorflow/stream_executor/platform/default/dso_loader.cc:48] Successfully opened dynamic library libcufft.so.10\n",
            "2021-04-12 00:41:18.342242: I tensorflow/stream_executor/platform/default/dso_loader.cc:48] Successfully opened dynamic library libcurand.so.10\n",
            "2021-04-12 00:41:18.342261: I tensorflow/stream_executor/platform/default/dso_loader.cc:48] Successfully opened dynamic library libcusolver.so.10\n",
            "2021-04-12 00:41:18.342282: I tensorflow/stream_executor/platform/default/dso_loader.cc:48] Successfully opened dynamic library libcusparse.so.10\n",
            "2021-04-12 00:41:18.342303: I tensorflow/stream_executor/platform/default/dso_loader.cc:48] Successfully opened dynamic library libcudnn.so.7\n",
            "2021-04-12 00:41:18.342366: I tensorflow/stream_executor/cuda/cuda_gpu_executor.cc:982] successful NUMA node read from SysFS had negative value (-1), but there must be at least one NUMA node, so returning NUMA node zero\n",
            "2021-04-12 00:41:18.342925: I tensorflow/stream_executor/cuda/cuda_gpu_executor.cc:982] successful NUMA node read from SysFS had negative value (-1), but there must be at least one NUMA node, so returning NUMA node zero\n",
            "2021-04-12 00:41:18.343421: I tensorflow/core/common_runtime/gpu/gpu_device.cc:1858] Adding visible gpu devices: 0\n",
            "2021-04-12 00:41:18.343461: I tensorflow/core/common_runtime/gpu/gpu_device.cc:1257] Device interconnect StreamExecutor with strength 1 edge matrix:\n",
            "2021-04-12 00:41:18.343474: I tensorflow/core/common_runtime/gpu/gpu_device.cc:1263]      0 \n",
            "2021-04-12 00:41:18.343486: I tensorflow/core/common_runtime/gpu/gpu_device.cc:1276] 0:   N \n",
            "2021-04-12 00:41:18.343573: I tensorflow/stream_executor/cuda/cuda_gpu_executor.cc:982] successful NUMA node read from SysFS had negative value (-1), but there must be at least one NUMA node, so returning NUMA node zero\n",
            "2021-04-12 00:41:18.344133: I tensorflow/stream_executor/cuda/cuda_gpu_executor.cc:982] successful NUMA node read from SysFS had negative value (-1), but there must be at least one NUMA node, so returning NUMA node zero\n",
            "2021-04-12 00:41:18.344629: I tensorflow/core/common_runtime/gpu/gpu_device.cc:1402] Created TensorFlow device (/job:localhost/replica:0/task:0/device:GPU:0 with 13970 MB memory) -> physical GPU (device: 0, name: Tesla T4, pci bus id: 0000:00:04.0, compute capability: 7.5)\n",
            "2021-04-12 00:41:18.368514: I tensorflow/core/grappler/optimizers/meta_optimizer.cc:816] Optimization results for grappler item: graph_to_optimize\n",
            "2021-04-12 00:41:18.368549: I tensorflow/core/grappler/optimizers/meta_optimizer.cc:818]   function_optimizer: Graph size after: 647 nodes (544), 657 edges (553), time = 9.985ms.\n",
            "2021-04-12 00:41:18.368562: I tensorflow/core/grappler/optimizers/meta_optimizer.cc:818]   function_optimizer: function_optimizer did nothing. time = 0.219ms.\n",
            "I0412 00:41:19.006728 140034098775936 lite.py:624] Using experimental converter: If you encountered a problem please file a bug. You can opt-out by setting experimental_new_converter=False\n",
            "2021-04-12 00:41:19.048144: W tensorflow/compiler/mlir/lite/python/tf_tfl_flatbuffer_helpers.cc:313] Ignored output_format.\n",
            "2021-04-12 00:41:19.048208: W tensorflow/compiler/mlir/lite/python/tf_tfl_flatbuffer_helpers.cc:316] Ignored drop_control_dependency.\n",
            "2021-04-12 00:41:19.098454: I tensorflow/stream_executor/cuda/cuda_gpu_executor.cc:982] successful NUMA node read from SysFS had negative value (-1), but there must be at least one NUMA node, so returning NUMA node zero\n",
            "2021-04-12 00:41:19.099077: I tensorflow/core/common_runtime/gpu/gpu_device.cc:1716] Found device 0 with properties: \n",
            "pciBusID: 0000:00:04.0 name: Tesla T4 computeCapability: 7.5\n",
            "coreClock: 1.59GHz coreCount: 40 deviceMemorySize: 14.75GiB deviceMemoryBandwidth: 298.08GiB/s\n",
            "2021-04-12 00:41:19.099134: I tensorflow/stream_executor/platform/default/dso_loader.cc:48] Successfully opened dynamic library libcudart.so.10.1\n",
            "2021-04-12 00:41:19.099193: I tensorflow/stream_executor/platform/default/dso_loader.cc:48] Successfully opened dynamic library libcublas.so.10\n",
            "2021-04-12 00:41:19.099218: I tensorflow/stream_executor/platform/default/dso_loader.cc:48] Successfully opened dynamic library libcufft.so.10\n",
            "2021-04-12 00:41:19.099239: I tensorflow/stream_executor/platform/default/dso_loader.cc:48] Successfully opened dynamic library libcurand.so.10\n",
            "2021-04-12 00:41:19.099259: I tensorflow/stream_executor/platform/default/dso_loader.cc:48] Successfully opened dynamic library libcusolver.so.10\n",
            "2021-04-12 00:41:19.099280: I tensorflow/stream_executor/platform/default/dso_loader.cc:48] Successfully opened dynamic library libcusparse.so.10\n",
            "2021-04-12 00:41:19.099303: I tensorflow/stream_executor/platform/default/dso_loader.cc:48] Successfully opened dynamic library libcudnn.so.7\n",
            "2021-04-12 00:41:19.099386: I tensorflow/stream_executor/cuda/cuda_gpu_executor.cc:982] successful NUMA node read from SysFS had negative value (-1), but there must be at least one NUMA node, so returning NUMA node zero\n",
            "2021-04-12 00:41:19.099954: I tensorflow/stream_executor/cuda/cuda_gpu_executor.cc:982] successful NUMA node read from SysFS had negative value (-1), but there must be at least one NUMA node, so returning NUMA node zero\n",
            "2021-04-12 00:41:19.100449: I tensorflow/core/common_runtime/gpu/gpu_device.cc:1858] Adding visible gpu devices: 0\n",
            "2021-04-12 00:41:19.100493: I tensorflow/core/common_runtime/gpu/gpu_device.cc:1257] Device interconnect StreamExecutor with strength 1 edge matrix:\n",
            "2021-04-12 00:41:19.100514: I tensorflow/core/common_runtime/gpu/gpu_device.cc:1263]      0 \n",
            "2021-04-12 00:41:19.100523: I tensorflow/core/common_runtime/gpu/gpu_device.cc:1276] 0:   N \n",
            "2021-04-12 00:41:19.100619: I tensorflow/stream_executor/cuda/cuda_gpu_executor.cc:982] successful NUMA node read from SysFS had negative value (-1), but there must be at least one NUMA node, so returning NUMA node zero\n",
            "2021-04-12 00:41:19.101189: I tensorflow/stream_executor/cuda/cuda_gpu_executor.cc:982] successful NUMA node read from SysFS had negative value (-1), but there must be at least one NUMA node, so returning NUMA node zero\n",
            "2021-04-12 00:41:19.101692: I tensorflow/core/common_runtime/gpu/gpu_device.cc:1402] Created TensorFlow device (/job:localhost/replica:0/task:0/device:GPU:0 with 13970 MB memory) -> physical GPU (device: 0, name: Tesla T4, pci bus id: 0000:00:04.0, compute capability: 7.5)\n",
            "2021-04-12 00:41:19.359605: I tensorflow/lite/tools/optimize/quantize_weights.cc:211] Skipping quantization of tensor functional_1/conv2d/Conv2D;StatefulPartitionedCall/functional_1/conv2d/Conv2D because it has fewer than 1024 elements (864).\n",
            "I0412 00:41:19.403801 140034098775936 convert_tflite.py:48] model saved to: ./checkpoints/yolov4-tiny-baseline-int8.tflite\n",
            "I0412 00:41:19.445630 140034098775936 convert_tflite.py:53] tflite model loaded\n",
            "[{'name': 'input_1', 'index': 0, 'shape': array([  1, 416, 416,   3], dtype=int32), 'shape_signature': array([ -1, 416, 416,   3], dtype=int32), 'dtype': <class 'numpy.float32'>, 'quantization': (0.0, 0), 'quantization_parameters': {'scales': array([], dtype=float32), 'zero_points': array([], dtype=int32), 'quantized_dimension': 0}, 'sparsity_parameters': {}}]\n",
            "[{'name': 'Identity', 'index': 233, 'shape': array([   1, 2535,    4], dtype=int32), 'shape_signature': array([ 1, -1,  4], dtype=int32), 'dtype': <class 'numpy.float32'>, 'quantization': (0.0, 0), 'quantization_parameters': {'scales': array([], dtype=float32), 'zero_points': array([], dtype=int32), 'quantized_dimension': 0}, 'sparsity_parameters': {}}, {'name': 'Identity_1', 'index': 212, 'shape': array([   1, 2535,    1], dtype=int32), 'shape_signature': array([ 1, -1,  1], dtype=int32), 'dtype': <class 'numpy.float32'>, 'quantization': (0.0, 0), 'quantization_parameters': {'scales': array([], dtype=float32), 'zero_points': array([], dtype=int32), 'quantized_dimension': 0}, 'sparsity_parameters': {}}]\n",
            "[array([[[ 12.125306,   7.10333 ,  27.92372 ,  16.1073  ],\n",
            "        [ 26.94698 ,   7.461162,  35.93439 ,  14.160041],\n",
            "        [ 41.67462 ,   8.476272,  40.419464,  13.999327],\n",
            "        ...,\n",
            "        [338.29504 , 397.63516 , 236.66626 ,  66.744644],\n",
            "        [366.5055  , 397.76007 , 300.2962  ,  74.96693 ],\n",
            "        [400.36227 , 397.51794 , 292.8072  ,  91.25658 ]]], dtype=float32), array([[[8.9242305e-05],\n",
            "        [3.2471519e-04],\n",
            "        [1.1846916e-03],\n",
            "        ...,\n",
            "        [3.3663314e-10],\n",
            "        [9.0037311e-10],\n",
            "        [7.6254718e-09]]], dtype=float32)]\n"
          ],
          "name": "stdout"
        }
      ]
    },
    {
      "cell_type": "code",
      "metadata": {
        "colab": {
          "base_uri": "https://localhost:8080/"
        },
        "id": "rgAuyN5K-An0",
        "outputId": "efcb272f-db63-418b-d619-9fc4846952a4"
      },
      "source": [
        "!ls checkpoints/"
      ],
      "execution_count": 11,
      "outputs": [
        {
          "output_type": "stream",
          "text": [
            "yolov4-tiny-baseline\t\t  yolov4-tiny-baseline-int8.tflite\n",
            "yolov4-tiny-baseline-fp16.tflite\n"
          ],
          "name": "stdout"
        }
      ]
    },
    {
      "cell_type": "code",
      "metadata": {
        "colab": {
          "base_uri": "https://localhost:8080/",
          "height": 17
        },
        "id": "OnLNzcn4BLBI",
        "outputId": "a06689f0-0fc2-4e40-cd5c-a7a0a7676b96"
      },
      "source": [
        "from google.colab import files\n",
        "files.download('./checkpoints/yolov4-tiny-320-fp16.tflite') "
      ],
      "execution_count": null,
      "outputs": [
        {
          "output_type": "display_data",
          "data": {
            "application/javascript": [
              "\n",
              "    async function download(id, filename, size) {\n",
              "      if (!google.colab.kernel.accessAllowed) {\n",
              "        return;\n",
              "      }\n",
              "      const div = document.createElement('div');\n",
              "      const label = document.createElement('label');\n",
              "      label.textContent = `Downloading \"${filename}\": `;\n",
              "      div.appendChild(label);\n",
              "      const progress = document.createElement('progress');\n",
              "      progress.max = size;\n",
              "      div.appendChild(progress);\n",
              "      document.body.appendChild(div);\n",
              "\n",
              "      const buffers = [];\n",
              "      let downloaded = 0;\n",
              "\n",
              "      const channel = await google.colab.kernel.comms.open(id);\n",
              "      // Send a message to notify the kernel that we're ready.\n",
              "      channel.send({})\n",
              "\n",
              "      for await (const message of channel.messages) {\n",
              "        // Send a message to notify the kernel that we're ready.\n",
              "        channel.send({})\n",
              "        if (message.buffers) {\n",
              "          for (const buffer of message.buffers) {\n",
              "            buffers.push(buffer);\n",
              "            downloaded += buffer.byteLength;\n",
              "            progress.value = downloaded;\n",
              "          }\n",
              "        }\n",
              "      }\n",
              "      const blob = new Blob(buffers, {type: 'application/binary'});\n",
              "      const a = document.createElement('a');\n",
              "      a.href = window.URL.createObjectURL(blob);\n",
              "      a.download = filename;\n",
              "      div.appendChild(a);\n",
              "      a.click();\n",
              "      div.remove();\n",
              "    }\n",
              "  "
            ],
            "text/plain": [
              "<IPython.core.display.Javascript object>"
            ]
          },
          "metadata": {
            "tags": []
          }
        },
        {
          "output_type": "display_data",
          "data": {
            "application/javascript": [
              "download(\"download_3dc6a509-6128-4336-a8a4-19425533e896\", \"yolov4-tiny-320-fp16.tflite\", 11783120)"
            ],
            "text/plain": [
              "<IPython.core.display.Javascript object>"
            ]
          },
          "metadata": {
            "tags": []
          }
        }
      ]
    },
    {
      "cell_type": "code",
      "metadata": {
        "id": "CHGUBHuvBQAV"
      },
      "source": [
        "import tensorflow as tf"
      ],
      "execution_count": null,
      "outputs": []
    },
    {
      "cell_type": "code",
      "metadata": {
        "colab": {
          "base_uri": "https://localhost:8080/",
          "height": 34
        },
        "id": "C_2V_y-hsMS_",
        "outputId": "0435b2c8-fa2e-45ee-fed4-f28675ad9324"
      },
      "source": [
        "tf.__version__"
      ],
      "execution_count": null,
      "outputs": [
        {
          "output_type": "execute_result",
          "data": {
            "application/vnd.google.colaboratory.intrinsic+json": {
              "type": "string"
            },
            "text/plain": [
              "'2.3.0'"
            ]
          },
          "metadata": {
            "tags": []
          },
          "execution_count": 5
        }
      ]
    },
    {
      "cell_type": "code",
      "metadata": {
        "id": "yJSHgjCIsNAG",
        "colab": {
          "base_uri": "https://localhost:8080/"
        },
        "outputId": "4b44d5c9-59dd-4220-e1b9-4c9d68413df5"
      },
      "source": [
        "!python detect.py --weights checkpoints/yolov4-tiny-baseline-fp16.tflite --size 416 --model yolov4 --image ./data/fire.jpg --framework tflite --tiny --output './res.jpg'"
      ],
      "execution_count": null,
      "outputs": [
        {
          "output_type": "stream",
          "text": [
            "2021-04-07 00:21:42.774200: I tensorflow/stream_executor/platform/default/dso_loader.cc:48] Successfully opened dynamic library libcudart.so.10.1\n",
            "2021-04-07 00:21:43.917065: I tensorflow/stream_executor/platform/default/dso_loader.cc:48] Successfully opened dynamic library libcuda.so.1\n",
            "2021-04-07 00:21:43.948526: I tensorflow/stream_executor/cuda/cuda_gpu_executor.cc:982] successful NUMA node read from SysFS had negative value (-1), but there must be at least one NUMA node, so returning NUMA node zero\n",
            "2021-04-07 00:21:43.949160: I tensorflow/core/common_runtime/gpu/gpu_device.cc:1716] Found device 0 with properties: \n",
            "pciBusID: 0000:00:04.0 name: Tesla T4 computeCapability: 7.5\n",
            "coreClock: 1.59GHz coreCount: 40 deviceMemorySize: 14.75GiB deviceMemoryBandwidth: 298.08GiB/s\n",
            "2021-04-07 00:21:43.949198: I tensorflow/stream_executor/platform/default/dso_loader.cc:48] Successfully opened dynamic library libcudart.so.10.1\n",
            "2021-04-07 00:21:43.951058: I tensorflow/stream_executor/platform/default/dso_loader.cc:48] Successfully opened dynamic library libcublas.so.10\n",
            "2021-04-07 00:21:43.952858: I tensorflow/stream_executor/platform/default/dso_loader.cc:48] Successfully opened dynamic library libcufft.so.10\n",
            "2021-04-07 00:21:43.953214: I tensorflow/stream_executor/platform/default/dso_loader.cc:48] Successfully opened dynamic library libcurand.so.10\n",
            "2021-04-07 00:21:43.955231: I tensorflow/stream_executor/platform/default/dso_loader.cc:48] Successfully opened dynamic library libcusolver.so.10\n",
            "2021-04-07 00:21:43.956401: I tensorflow/stream_executor/platform/default/dso_loader.cc:48] Successfully opened dynamic library libcusparse.so.10\n",
            "2021-04-07 00:21:43.960311: I tensorflow/stream_executor/platform/default/dso_loader.cc:48] Successfully opened dynamic library libcudnn.so.7\n",
            "2021-04-07 00:21:43.960426: I tensorflow/stream_executor/cuda/cuda_gpu_executor.cc:982] successful NUMA node read from SysFS had negative value (-1), but there must be at least one NUMA node, so returning NUMA node zero\n",
            "2021-04-07 00:21:43.961085: I tensorflow/stream_executor/cuda/cuda_gpu_executor.cc:982] successful NUMA node read from SysFS had negative value (-1), but there must be at least one NUMA node, so returning NUMA node zero\n",
            "2021-04-07 00:21:43.961664: I tensorflow/core/common_runtime/gpu/gpu_device.cc:1858] Adding visible gpu devices: 0\n",
            "2021-04-07 00:21:43.984595: I tensorflow/core/platform/cpu_feature_guard.cc:142] This TensorFlow binary is optimized with oneAPI Deep Neural Network Library (oneDNN)to use the following CPU instructions in performance-critical operations:  AVX2 FMA\n",
            "To enable them in other operations, rebuild TensorFlow with the appropriate compiler flags.\n",
            "2021-04-07 00:21:43.990357: I tensorflow/core/platform/profile_utils/cpu_utils.cc:104] CPU Frequency: 2199995000 Hz\n",
            "2021-04-07 00:21:43.990570: I tensorflow/compiler/xla/service/service.cc:168] XLA service 0x55572232ebc0 initialized for platform Host (this does not guarantee that XLA will be used). Devices:\n",
            "2021-04-07 00:21:43.990601: I tensorflow/compiler/xla/service/service.cc:176]   StreamExecutor device (0): Host, Default Version\n",
            "2021-04-07 00:21:44.102616: I tensorflow/stream_executor/cuda/cuda_gpu_executor.cc:982] successful NUMA node read from SysFS had negative value (-1), but there must be at least one NUMA node, so returning NUMA node zero\n",
            "2021-04-07 00:21:44.103391: I tensorflow/compiler/xla/service/service.cc:168] XLA service 0x55572232ed80 initialized for platform CUDA (this does not guarantee that XLA will be used). Devices:\n",
            "2021-04-07 00:21:44.103426: I tensorflow/compiler/xla/service/service.cc:176]   StreamExecutor device (0): Tesla T4, Compute Capability 7.5\n",
            "2021-04-07 00:21:44.103642: I tensorflow/stream_executor/cuda/cuda_gpu_executor.cc:982] successful NUMA node read from SysFS had negative value (-1), but there must be at least one NUMA node, so returning NUMA node zero\n",
            "2021-04-07 00:21:44.104204: I tensorflow/core/common_runtime/gpu/gpu_device.cc:1716] Found device 0 with properties: \n",
            "pciBusID: 0000:00:04.0 name: Tesla T4 computeCapability: 7.5\n",
            "coreClock: 1.59GHz coreCount: 40 deviceMemorySize: 14.75GiB deviceMemoryBandwidth: 298.08GiB/s\n",
            "2021-04-07 00:21:44.104247: I tensorflow/stream_executor/platform/default/dso_loader.cc:48] Successfully opened dynamic library libcudart.so.10.1\n",
            "2021-04-07 00:21:44.104289: I tensorflow/stream_executor/platform/default/dso_loader.cc:48] Successfully opened dynamic library libcublas.so.10\n",
            "2021-04-07 00:21:44.104311: I tensorflow/stream_executor/platform/default/dso_loader.cc:48] Successfully opened dynamic library libcufft.so.10\n",
            "2021-04-07 00:21:44.104331: I tensorflow/stream_executor/platform/default/dso_loader.cc:48] Successfully opened dynamic library libcurand.so.10\n",
            "2021-04-07 00:21:44.104353: I tensorflow/stream_executor/platform/default/dso_loader.cc:48] Successfully opened dynamic library libcusolver.so.10\n",
            "2021-04-07 00:21:44.104371: I tensorflow/stream_executor/platform/default/dso_loader.cc:48] Successfully opened dynamic library libcusparse.so.10\n",
            "2021-04-07 00:21:44.104401: I tensorflow/stream_executor/platform/default/dso_loader.cc:48] Successfully opened dynamic library libcudnn.so.7\n",
            "2021-04-07 00:21:44.104473: I tensorflow/stream_executor/cuda/cuda_gpu_executor.cc:982] successful NUMA node read from SysFS had negative value (-1), but there must be at least one NUMA node, so returning NUMA node zero\n",
            "2021-04-07 00:21:44.105043: I tensorflow/stream_executor/cuda/cuda_gpu_executor.cc:982] successful NUMA node read from SysFS had negative value (-1), but there must be at least one NUMA node, so returning NUMA node zero\n",
            "2021-04-07 00:21:44.105560: I tensorflow/core/common_runtime/gpu/gpu_device.cc:1858] Adding visible gpu devices: 0\n",
            "2021-04-07 00:21:44.105620: I tensorflow/stream_executor/platform/default/dso_loader.cc:48] Successfully opened dynamic library libcudart.so.10.1\n",
            "2021-04-07 00:21:44.592392: I tensorflow/core/common_runtime/gpu/gpu_device.cc:1257] Device interconnect StreamExecutor with strength 1 edge matrix:\n",
            "2021-04-07 00:21:44.592448: I tensorflow/core/common_runtime/gpu/gpu_device.cc:1263]      0 \n",
            "2021-04-07 00:21:44.592459: I tensorflow/core/common_runtime/gpu/gpu_device.cc:1276] 0:   N \n",
            "2021-04-07 00:21:44.592653: I tensorflow/stream_executor/cuda/cuda_gpu_executor.cc:982] successful NUMA node read from SysFS had negative value (-1), but there must be at least one NUMA node, so returning NUMA node zero\n",
            "2021-04-07 00:21:44.593254: I tensorflow/stream_executor/cuda/cuda_gpu_executor.cc:982] successful NUMA node read from SysFS had negative value (-1), but there must be at least one NUMA node, so returning NUMA node zero\n",
            "2021-04-07 00:21:44.593815: I tensorflow/core/common_runtime/gpu/gpu_device.cc:1402] Created TensorFlow device (/job:localhost/replica:0/task:0/device:GPU:0 with 13970 MB memory) -> physical GPU (device: 0, name: Tesla T4, pci bus id: 0000:00:04.0, compute capability: 7.5)\n",
            "2021-04-07 00:21:44.628987: I tensorflow/stream_executor/cuda/cuda_gpu_executor.cc:982] successful NUMA node read from SysFS had negative value (-1), but there must be at least one NUMA node, so returning NUMA node zero\n",
            "2021-04-07 00:21:44.629547: I tensorflow/core/common_runtime/gpu/gpu_device.cc:1716] Found device 0 with properties: \n",
            "pciBusID: 0000:00:04.0 name: Tesla T4 computeCapability: 7.5\n",
            "coreClock: 1.59GHz coreCount: 40 deviceMemorySize: 14.75GiB deviceMemoryBandwidth: 298.08GiB/s\n",
            "2021-04-07 00:21:44.629597: I tensorflow/stream_executor/platform/default/dso_loader.cc:48] Successfully opened dynamic library libcudart.so.10.1\n",
            "2021-04-07 00:21:44.629644: I tensorflow/stream_executor/platform/default/dso_loader.cc:48] Successfully opened dynamic library libcublas.so.10\n",
            "2021-04-07 00:21:44.629670: I tensorflow/stream_executor/platform/default/dso_loader.cc:48] Successfully opened dynamic library libcufft.so.10\n",
            "2021-04-07 00:21:44.629689: I tensorflow/stream_executor/platform/default/dso_loader.cc:48] Successfully opened dynamic library libcurand.so.10\n",
            "2021-04-07 00:21:44.629709: I tensorflow/stream_executor/platform/default/dso_loader.cc:48] Successfully opened dynamic library libcusolver.so.10\n",
            "2021-04-07 00:21:44.629729: I tensorflow/stream_executor/platform/default/dso_loader.cc:48] Successfully opened dynamic library libcusparse.so.10\n",
            "2021-04-07 00:21:44.629748: I tensorflow/stream_executor/platform/default/dso_loader.cc:48] Successfully opened dynamic library libcudnn.so.7\n",
            "2021-04-07 00:21:44.629820: I tensorflow/stream_executor/cuda/cuda_gpu_executor.cc:982] successful NUMA node read from SysFS had negative value (-1), but there must be at least one NUMA node, so returning NUMA node zero\n",
            "2021-04-07 00:21:44.630359: I tensorflow/stream_executor/cuda/cuda_gpu_executor.cc:982] successful NUMA node read from SysFS had negative value (-1), but there must be at least one NUMA node, so returning NUMA node zero\n",
            "2021-04-07 00:21:44.630868: I tensorflow/core/common_runtime/gpu/gpu_device.cc:1858] Adding visible gpu devices: 0\n",
            "2021-04-07 00:21:44.630903: I tensorflow/core/common_runtime/gpu/gpu_device.cc:1257] Device interconnect StreamExecutor with strength 1 edge matrix:\n",
            "2021-04-07 00:21:44.630917: I tensorflow/core/common_runtime/gpu/gpu_device.cc:1263]      0 \n",
            "2021-04-07 00:21:44.630926: I tensorflow/core/common_runtime/gpu/gpu_device.cc:1276] 0:   N \n",
            "2021-04-07 00:21:44.631010: I tensorflow/stream_executor/cuda/cuda_gpu_executor.cc:982] successful NUMA node read from SysFS had negative value (-1), but there must be at least one NUMA node, so returning NUMA node zero\n",
            "2021-04-07 00:21:44.631621: I tensorflow/stream_executor/cuda/cuda_gpu_executor.cc:982] successful NUMA node read from SysFS had negative value (-1), but there must be at least one NUMA node, so returning NUMA node zero\n",
            "2021-04-07 00:21:44.632139: I tensorflow/core/common_runtime/gpu/gpu_device.cc:1402] Created TensorFlow device (/job:localhost/replica:0/task:0/device:GPU:0 with 13970 MB memory) -> physical GPU (device: 0, name: Tesla T4, pci bus id: 0000:00:04.0, compute capability: 7.5)\n",
            "[{'name': 'input_1', 'index': 0, 'shape': array([  1, 320, 320,   3], dtype=int32), 'shape_signature': array([ -1, 320, 320,   3], dtype=int32), 'dtype': <class 'numpy.float32'>, 'quantization': (0.0, 0), 'quantization_parameters': {'scales': array([], dtype=float32), 'zero_points': array([], dtype=int32), 'quantized_dimension': 0}, 'sparsity_parameters': {}}]\n",
            "[{'name': 'Identity', 'index': 103, 'shape': array([ 1, 10, 10, 18], dtype=int32), 'shape_signature': array([-1, 10, 10, 18], dtype=int32), 'dtype': <class 'numpy.float32'>, 'quantization': (0.0, 0), 'quantization_parameters': {'scales': array([], dtype=float32), 'zero_points': array([], dtype=int32), 'quantized_dimension': 0}, 'sparsity_parameters': {}}, {'name': 'Identity_1', 'index': 104, 'shape': array([ 1, 20, 20, 18], dtype=int32), 'shape_signature': array([-1, 20, 20, 18], dtype=int32), 'dtype': <class 'numpy.float32'>, 'quantization': (0.0, 0), 'quantization_parameters': {'scales': array([], dtype=float32), 'zero_points': array([], dtype=int32), 'quantized_dimension': 0}, 'sparsity_parameters': {}}]\n",
            "Traceback (most recent call last):\n",
            "  File \"detect.py\", line 104, in <module>\n",
            "    app.run(main)\n",
            "  File \"/usr/local/lib/python3.7/dist-packages/absl/app.py\", line 303, in run\n",
            "    _run_main(main, args)\n",
            "  File \"/usr/local/lib/python3.7/dist-packages/absl/app.py\", line 251, in _run_main\n",
            "    sys.exit(main(argv))\n",
            "  File \"detect.py\", line 62, in main\n",
            "    output_tensors = decode(pred[2], input_size // 8, NUM_CLASS, STRIDES, ANCHORS, i, XYSCALE, 'tflite')\n",
            "IndexError: list index out of range\n"
          ],
          "name": "stdout"
        }
      ]
    },
    {
      "cell_type": "code",
      "metadata": {
        "id": "XgOK1jHSSJ5o"
      },
      "source": [
        ""
      ],
      "execution_count": null,
      "outputs": []
    },
    {
      "cell_type": "code",
      "metadata": {
        "id": "2Ly-zX3Gob4e"
      },
      "source": [
        ""
      ],
      "execution_count": null,
      "outputs": []
    }
  ]
}